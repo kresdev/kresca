{
 "cells": [
  {
   "cell_type": "code",
   "execution_count": 1,
   "id": "d6faf85f",
   "metadata": {},
   "outputs": [],
   "source": [
    "import sys\n",
    "sys.path.append('../../')\n",
    "\n",
    "import estraces\n",
    "import scared\n",
    "from kresca.plot import CurvePlot\n",
    "from kresca.attack import NonProfileAttack"
   ]
  },
  {
   "cell_type": "markdown",
   "id": "a165fcc3",
   "metadata": {},
   "source": [
    "## Import Traces"
   ]
  },
  {
   "cell_type": "code",
   "execution_count": 2,
   "id": "2a69fc72",
   "metadata": {},
   "outputs": [],
   "source": [
    "ths = estraces.read_ths_from_ets_file('../../Traces/TinyAES_1k.ets')"
   ]
  },
  {
   "cell_type": "code",
   "execution_count": 3,
   "id": "a4b2726f",
   "metadata": {},
   "outputs": [
    {
     "name": "stdout",
     "output_type": "stream",
     "text": [
      "Trace Header Set:\n",
      "Name.............: ETS Format THS\n",
      "Reader...........: ETS format reader of file ../../Traces/TinyAES_1k.ets with 1000 traces.\n",
      "ciphertext.......: uint8\n",
      "key..............: uint8\n",
      "plaintext........: uint8\n",
      "\n"
     ]
    }
   ],
   "source": [
    "print(ths)"
   ]
  },
  {
   "cell_type": "markdown",
   "id": "dd732833",
   "metadata": {},
   "source": [
    "## Plot Traces"
   ]
  },
  {
   "cell_type": "code",
   "execution_count": null,
   "id": "7707495b",
   "metadata": {},
   "outputs": [],
   "source": [
    "#put inline=True if you want to display on notebook\n",
    "CurvePlot(ths.samples[:5]) "
   ]
  },
  {
   "cell_type": "markdown",
   "id": "e98b9d12",
   "metadata": {},
   "source": [
    "## Make Selection Functions"
   ]
  },
  {
   "cell_type": "code",
   "execution_count": 4,
   "id": "540f4f54",
   "metadata": {},
   "outputs": [],
   "source": [
    "first_addroundkey = scared.aes.selection_functions.encrypt.FirstAddRoundKey()\n",
    "first_subbytes = scared.aes.selection_functions.encrypt.FirstSubBytes()\n",
    "last_addroundkey = scared.aes.selection_functions.encrypt.LastAddRoundKey()\n",
    "last_subbytes = scared.aes.selection_functions.encrypt.LastSubBytes()\n",
    "last_deltaround = scared.aes.selection_functions.encrypt.DeltaRLastRounds()"
   ]
  },
  {
   "cell_type": "code",
   "execution_count": 5,
   "id": "005b75ec",
   "metadata": {},
   "outputs": [],
   "source": [
    "AES_selection_functions = {\n",
    "    'AES First Add Round Key': first_addroundkey,\n",
    "    'AES First Sub Bytes': first_subbytes,\n",
    "    'AES Last Add Round Key': last_addroundkey,\n",
    "    'AES Last Sub Bytes': last_subbytes,\n",
    "#     'AES Last Delta R': last_deltaround,\n",
    "}"
   ]
  },
  {
   "cell_type": "markdown",
   "id": "01aba996",
   "metadata": {},
   "source": [
    "## Make Attack Object"
   ]
  },
  {
   "cell_type": "code",
   "execution_count": 6,
   "id": "abf57136",
   "metadata": {},
   "outputs": [],
   "source": [
    "attack = NonProfileAttack(\n",
    "    ths=ths,\n",
    "    selection_functions=AES_selection_functions\n",
    ")"
   ]
  },
  {
   "cell_type": "code",
   "execution_count": 7,
   "id": "c4738796",
   "metadata": {},
   "outputs": [
    {
     "name": "stdout",
     "output_type": "stream",
     "text": [
      "selection_function: AES First Add Round Key\n",
      "selection_function: AES First Sub Bytes\n",
      "selection_function: AES Last Add Round Key\n",
      "selection_function: AES Last Sub Bytes\n"
     ]
    }
   ],
   "source": [
    "attack.run()"
   ]
  },
  {
   "cell_type": "code",
   "execution_count": 8,
   "id": "79923663",
   "metadata": {},
   "outputs": [
    {
     "data": {
      "text/html": [
       "<style type=\"text/css\">\n",
       "#T_18743 caption {\n",
       "  text-align: center;\n",
       "}\n",
       "#T_18743_row1_col0, #T_18743_row1_col2, #T_18743_row1_col4, #T_18743_row1_col6, #T_18743_row1_col11, #T_18743_row1_col13 {\n",
       "  color: green;\n",
       "}\n",
       "#T_18743_row1_col1, #T_18743_row1_col3, #T_18743_row1_col5, #T_18743_row1_col7, #T_18743_row1_col8, #T_18743_row1_col9, #T_18743_row1_col10, #T_18743_row1_col12, #T_18743_row1_col14, #T_18743_row1_col15 {\n",
       "  color: red;\n",
       "}\n",
       "</style>\n",
       "<table id=\"T_18743\" style=\"font-size: 15px\">\n",
       "  <caption>AES First Add Round Key </caption>\n",
       "  <thead>\n",
       "    <tr>\n",
       "      <th class=\"blank level0\" >&nbsp;</th>\n",
       "      <th id=\"T_18743_level0_col0\" class=\"col_heading level0 col0\" >0</th>\n",
       "      <th id=\"T_18743_level0_col1\" class=\"col_heading level0 col1\" >1</th>\n",
       "      <th id=\"T_18743_level0_col2\" class=\"col_heading level0 col2\" >2</th>\n",
       "      <th id=\"T_18743_level0_col3\" class=\"col_heading level0 col3\" >3</th>\n",
       "      <th id=\"T_18743_level0_col4\" class=\"col_heading level0 col4\" >4</th>\n",
       "      <th id=\"T_18743_level0_col5\" class=\"col_heading level0 col5\" >5</th>\n",
       "      <th id=\"T_18743_level0_col6\" class=\"col_heading level0 col6\" >6</th>\n",
       "      <th id=\"T_18743_level0_col7\" class=\"col_heading level0 col7\" >7</th>\n",
       "      <th id=\"T_18743_level0_col8\" class=\"col_heading level0 col8\" >8</th>\n",
       "      <th id=\"T_18743_level0_col9\" class=\"col_heading level0 col9\" >9</th>\n",
       "      <th id=\"T_18743_level0_col10\" class=\"col_heading level0 col10\" >10</th>\n",
       "      <th id=\"T_18743_level0_col11\" class=\"col_heading level0 col11\" >11</th>\n",
       "      <th id=\"T_18743_level0_col12\" class=\"col_heading level0 col12\" >12</th>\n",
       "      <th id=\"T_18743_level0_col13\" class=\"col_heading level0 col13\" >13</th>\n",
       "      <th id=\"T_18743_level0_col14\" class=\"col_heading level0 col14\" >14</th>\n",
       "      <th id=\"T_18743_level0_col15\" class=\"col_heading level0 col15\" >15</th>\n",
       "    </tr>\n",
       "  </thead>\n",
       "  <tbody>\n",
       "    <tr>\n",
       "      <th id=\"T_18743_level0_row0\" class=\"row_heading level0 row0\" >Scores</th>\n",
       "      <td id=\"T_18743_row0_col0\" class=\"data row0 col0\" >0.825</td>\n",
       "      <td id=\"T_18743_row0_col1\" class=\"data row0 col1\" >0.829</td>\n",
       "      <td id=\"T_18743_row0_col2\" class=\"data row0 col2\" >0.823</td>\n",
       "      <td id=\"T_18743_row0_col3\" class=\"data row0 col3\" >0.826</td>\n",
       "      <td id=\"T_18743_row0_col4\" class=\"data row0 col4\" >0.823</td>\n",
       "      <td id=\"T_18743_row0_col5\" class=\"data row0 col5\" >0.812</td>\n",
       "      <td id=\"T_18743_row0_col6\" class=\"data row0 col6\" >0.822</td>\n",
       "      <td id=\"T_18743_row0_col7\" class=\"data row0 col7\" >0.826</td>\n",
       "      <td id=\"T_18743_row0_col8\" class=\"data row0 col8\" >0.824</td>\n",
       "      <td id=\"T_18743_row0_col9\" class=\"data row0 col9\" >0.820</td>\n",
       "      <td id=\"T_18743_row0_col10\" class=\"data row0 col10\" >0.832</td>\n",
       "      <td id=\"T_18743_row0_col11\" class=\"data row0 col11\" >0.814</td>\n",
       "      <td id=\"T_18743_row0_col12\" class=\"data row0 col12\" >0.833</td>\n",
       "      <td id=\"T_18743_row0_col13\" class=\"data row0 col13\" >0.837</td>\n",
       "      <td id=\"T_18743_row0_col14\" class=\"data row0 col14\" >0.833</td>\n",
       "      <td id=\"T_18743_row0_col15\" class=\"data row0 col15\" >0.821</td>\n",
       "    </tr>\n",
       "    <tr>\n",
       "      <th id=\"T_18743_level0_row1\" class=\"row_heading level0 row1\" >Found Bytes</th>\n",
       "      <td id=\"T_18743_row1_col0\" class=\"data row1 col0\" >0x0</td>\n",
       "      <td id=\"T_18743_row1_col1\" class=\"data row1 col1\" >0xff</td>\n",
       "      <td id=\"T_18743_row1_col2\" class=\"data row1 col2\" >0x22</td>\n",
       "      <td id=\"T_18743_row1_col3\" class=\"data row1 col3\" >0x0</td>\n",
       "      <td id=\"T_18743_row1_col4\" class=\"data row1 col4\" >0x44</td>\n",
       "      <td id=\"T_18743_row1_col5\" class=\"data row1 col5\" >0x0</td>\n",
       "      <td id=\"T_18743_row1_col6\" class=\"data row1 col6\" >0x66</td>\n",
       "      <td id=\"T_18743_row1_col7\" class=\"data row1 col7\" >0x0</td>\n",
       "      <td id=\"T_18743_row1_col8\" class=\"data row1 col8\" >0x77</td>\n",
       "      <td id=\"T_18743_row1_col9\" class=\"data row1 col9\" >0x0</td>\n",
       "      <td id=\"T_18743_row1_col10\" class=\"data row1 col10\" >0x55</td>\n",
       "      <td id=\"T_18743_row1_col11\" class=\"data row1 col11\" >0xbb</td>\n",
       "      <td id=\"T_18743_row1_col12\" class=\"data row1 col12\" >0x0</td>\n",
       "      <td id=\"T_18743_row1_col13\" class=\"data row1 col13\" >0xdd</td>\n",
       "      <td id=\"T_18743_row1_col14\" class=\"data row1 col14\" >0x0</td>\n",
       "      <td id=\"T_18743_row1_col15\" class=\"data row1 col15\" >0x0</td>\n",
       "    </tr>\n",
       "    <tr>\n",
       "      <th id=\"T_18743_level0_row2\" class=\"row_heading level0 row2\" >Expected</th>\n",
       "      <td id=\"T_18743_row2_col0\" class=\"data row2 col0\" >0x0</td>\n",
       "      <td id=\"T_18743_row2_col1\" class=\"data row2 col1\" >0x11</td>\n",
       "      <td id=\"T_18743_row2_col2\" class=\"data row2 col2\" >0x22</td>\n",
       "      <td id=\"T_18743_row2_col3\" class=\"data row2 col3\" >0x33</td>\n",
       "      <td id=\"T_18743_row2_col4\" class=\"data row2 col4\" >0x44</td>\n",
       "      <td id=\"T_18743_row2_col5\" class=\"data row2 col5\" >0x55</td>\n",
       "      <td id=\"T_18743_row2_col6\" class=\"data row2 col6\" >0x66</td>\n",
       "      <td id=\"T_18743_row2_col7\" class=\"data row2 col7\" >0x77</td>\n",
       "      <td id=\"T_18743_row2_col8\" class=\"data row2 col8\" >0x88</td>\n",
       "      <td id=\"T_18743_row2_col9\" class=\"data row2 col9\" >0x99</td>\n",
       "      <td id=\"T_18743_row2_col10\" class=\"data row2 col10\" >0xaa</td>\n",
       "      <td id=\"T_18743_row2_col11\" class=\"data row2 col11\" >0xbb</td>\n",
       "      <td id=\"T_18743_row2_col12\" class=\"data row2 col12\" >0xcc</td>\n",
       "      <td id=\"T_18743_row2_col13\" class=\"data row2 col13\" >0xdd</td>\n",
       "      <td id=\"T_18743_row2_col14\" class=\"data row2 col14\" >0xee</td>\n",
       "      <td id=\"T_18743_row2_col15\" class=\"data row2 col15\" >0xff</td>\n",
       "    </tr>\n",
       "    <tr>\n",
       "      <th id=\"T_18743_level0_row3\" class=\"row_heading level0 row3\" >Rank</th>\n",
       "      <td id=\"T_18743_row3_col0\" class=\"data row3 col0\" >0</td>\n",
       "      <td id=\"T_18743_row3_col1\" class=\"data row3 col1\" >3</td>\n",
       "      <td id=\"T_18743_row3_col2\" class=\"data row3 col2\" >0</td>\n",
       "      <td id=\"T_18743_row3_col3\" class=\"data row3 col3\" >3</td>\n",
       "      <td id=\"T_18743_row3_col4\" class=\"data row3 col4\" >0</td>\n",
       "      <td id=\"T_18743_row3_col5\" class=\"data row3 col5\" >3</td>\n",
       "      <td id=\"T_18743_row3_col6\" class=\"data row3 col6\" >1</td>\n",
       "      <td id=\"T_18743_row3_col7\" class=\"data row3 col7\" >2</td>\n",
       "      <td id=\"T_18743_row3_col8\" class=\"data row3 col8\" >1</td>\n",
       "      <td id=\"T_18743_row3_col9\" class=\"data row3 col9\" >3</td>\n",
       "      <td id=\"T_18743_row3_col10\" class=\"data row3 col10\" >1</td>\n",
       "      <td id=\"T_18743_row3_col11\" class=\"data row3 col11\" >0</td>\n",
       "      <td id=\"T_18743_row3_col12\" class=\"data row3 col12\" >3</td>\n",
       "      <td id=\"T_18743_row3_col13\" class=\"data row3 col13\" >0</td>\n",
       "      <td id=\"T_18743_row3_col14\" class=\"data row3 col14\" >2</td>\n",
       "      <td id=\"T_18743_row3_col15\" class=\"data row3 col15\" >1</td>\n",
       "    </tr>\n",
       "  </tbody>\n",
       "</table>\n"
      ],
      "text/plain": [
       "<pandas.io.formats.style.Styler at 0x2a8f60831f0>"
      ]
     },
     "metadata": {},
     "output_type": "display_data"
    },
    {
     "data": {
      "text/html": [
       "<style type=\"text/css\">\n",
       "#T_1b5c4 caption {\n",
       "  text-align: center;\n",
       "}\n",
       "#T_1b5c4_row1_col0, #T_1b5c4_row1_col1, #T_1b5c4_row1_col2, #T_1b5c4_row1_col3, #T_1b5c4_row1_col4, #T_1b5c4_row1_col5, #T_1b5c4_row1_col6, #T_1b5c4_row1_col7, #T_1b5c4_row1_col8, #T_1b5c4_row1_col9, #T_1b5c4_row1_col10, #T_1b5c4_row1_col11, #T_1b5c4_row1_col12, #T_1b5c4_row1_col13, #T_1b5c4_row1_col14, #T_1b5c4_row1_col15 {\n",
       "  color: green;\n",
       "}\n",
       "</style>\n",
       "<table id=\"T_1b5c4\" style=\"font-size: 15px\">\n",
       "  <caption>AES First Sub Bytes </caption>\n",
       "  <thead>\n",
       "    <tr>\n",
       "      <th class=\"blank level0\" >&nbsp;</th>\n",
       "      <th id=\"T_1b5c4_level0_col0\" class=\"col_heading level0 col0\" >0</th>\n",
       "      <th id=\"T_1b5c4_level0_col1\" class=\"col_heading level0 col1\" >1</th>\n",
       "      <th id=\"T_1b5c4_level0_col2\" class=\"col_heading level0 col2\" >2</th>\n",
       "      <th id=\"T_1b5c4_level0_col3\" class=\"col_heading level0 col3\" >3</th>\n",
       "      <th id=\"T_1b5c4_level0_col4\" class=\"col_heading level0 col4\" >4</th>\n",
       "      <th id=\"T_1b5c4_level0_col5\" class=\"col_heading level0 col5\" >5</th>\n",
       "      <th id=\"T_1b5c4_level0_col6\" class=\"col_heading level0 col6\" >6</th>\n",
       "      <th id=\"T_1b5c4_level0_col7\" class=\"col_heading level0 col7\" >7</th>\n",
       "      <th id=\"T_1b5c4_level0_col8\" class=\"col_heading level0 col8\" >8</th>\n",
       "      <th id=\"T_1b5c4_level0_col9\" class=\"col_heading level0 col9\" >9</th>\n",
       "      <th id=\"T_1b5c4_level0_col10\" class=\"col_heading level0 col10\" >10</th>\n",
       "      <th id=\"T_1b5c4_level0_col11\" class=\"col_heading level0 col11\" >11</th>\n",
       "      <th id=\"T_1b5c4_level0_col12\" class=\"col_heading level0 col12\" >12</th>\n",
       "      <th id=\"T_1b5c4_level0_col13\" class=\"col_heading level0 col13\" >13</th>\n",
       "      <th id=\"T_1b5c4_level0_col14\" class=\"col_heading level0 col14\" >14</th>\n",
       "      <th id=\"T_1b5c4_level0_col15\" class=\"col_heading level0 col15\" >15</th>\n",
       "    </tr>\n",
       "  </thead>\n",
       "  <tbody>\n",
       "    <tr>\n",
       "      <th id=\"T_1b5c4_level0_row0\" class=\"row_heading level0 row0\" >Scores</th>\n",
       "      <td id=\"T_1b5c4_row0_col0\" class=\"data row0 col0\" >0.802</td>\n",
       "      <td id=\"T_1b5c4_row0_col1\" class=\"data row0 col1\" >0.824</td>\n",
       "      <td id=\"T_1b5c4_row0_col2\" class=\"data row0 col2\" >0.818</td>\n",
       "      <td id=\"T_1b5c4_row0_col3\" class=\"data row0 col3\" >0.807</td>\n",
       "      <td id=\"T_1b5c4_row0_col4\" class=\"data row0 col4\" >0.822</td>\n",
       "      <td id=\"T_1b5c4_row0_col5\" class=\"data row0 col5\" >0.815</td>\n",
       "      <td id=\"T_1b5c4_row0_col6\" class=\"data row0 col6\" >0.828</td>\n",
       "      <td id=\"T_1b5c4_row0_col7\" class=\"data row0 col7\" >0.819</td>\n",
       "      <td id=\"T_1b5c4_row0_col8\" class=\"data row0 col8\" >0.831</td>\n",
       "      <td id=\"T_1b5c4_row0_col9\" class=\"data row0 col9\" >0.826</td>\n",
       "      <td id=\"T_1b5c4_row0_col10\" class=\"data row0 col10\" >0.830</td>\n",
       "      <td id=\"T_1b5c4_row0_col11\" class=\"data row0 col11\" >0.824</td>\n",
       "      <td id=\"T_1b5c4_row0_col12\" class=\"data row0 col12\" >0.827</td>\n",
       "      <td id=\"T_1b5c4_row0_col13\" class=\"data row0 col13\" >0.832</td>\n",
       "      <td id=\"T_1b5c4_row0_col14\" class=\"data row0 col14\" >0.831</td>\n",
       "      <td id=\"T_1b5c4_row0_col15\" class=\"data row0 col15\" >0.828</td>\n",
       "    </tr>\n",
       "    <tr>\n",
       "      <th id=\"T_1b5c4_level0_row1\" class=\"row_heading level0 row1\" >Found Bytes</th>\n",
       "      <td id=\"T_1b5c4_row1_col0\" class=\"data row1 col0\" >0x0</td>\n",
       "      <td id=\"T_1b5c4_row1_col1\" class=\"data row1 col1\" >0x11</td>\n",
       "      <td id=\"T_1b5c4_row1_col2\" class=\"data row1 col2\" >0x22</td>\n",
       "      <td id=\"T_1b5c4_row1_col3\" class=\"data row1 col3\" >0x33</td>\n",
       "      <td id=\"T_1b5c4_row1_col4\" class=\"data row1 col4\" >0x44</td>\n",
       "      <td id=\"T_1b5c4_row1_col5\" class=\"data row1 col5\" >0x55</td>\n",
       "      <td id=\"T_1b5c4_row1_col6\" class=\"data row1 col6\" >0x66</td>\n",
       "      <td id=\"T_1b5c4_row1_col7\" class=\"data row1 col7\" >0x77</td>\n",
       "      <td id=\"T_1b5c4_row1_col8\" class=\"data row1 col8\" >0x88</td>\n",
       "      <td id=\"T_1b5c4_row1_col9\" class=\"data row1 col9\" >0x99</td>\n",
       "      <td id=\"T_1b5c4_row1_col10\" class=\"data row1 col10\" >0xaa</td>\n",
       "      <td id=\"T_1b5c4_row1_col11\" class=\"data row1 col11\" >0xbb</td>\n",
       "      <td id=\"T_1b5c4_row1_col12\" class=\"data row1 col12\" >0xcc</td>\n",
       "      <td id=\"T_1b5c4_row1_col13\" class=\"data row1 col13\" >0xdd</td>\n",
       "      <td id=\"T_1b5c4_row1_col14\" class=\"data row1 col14\" >0xee</td>\n",
       "      <td id=\"T_1b5c4_row1_col15\" class=\"data row1 col15\" >0xff</td>\n",
       "    </tr>\n",
       "    <tr>\n",
       "      <th id=\"T_1b5c4_level0_row2\" class=\"row_heading level0 row2\" >Expected</th>\n",
       "      <td id=\"T_1b5c4_row2_col0\" class=\"data row2 col0\" >0x0</td>\n",
       "      <td id=\"T_1b5c4_row2_col1\" class=\"data row2 col1\" >0x11</td>\n",
       "      <td id=\"T_1b5c4_row2_col2\" class=\"data row2 col2\" >0x22</td>\n",
       "      <td id=\"T_1b5c4_row2_col3\" class=\"data row2 col3\" >0x33</td>\n",
       "      <td id=\"T_1b5c4_row2_col4\" class=\"data row2 col4\" >0x44</td>\n",
       "      <td id=\"T_1b5c4_row2_col5\" class=\"data row2 col5\" >0x55</td>\n",
       "      <td id=\"T_1b5c4_row2_col6\" class=\"data row2 col6\" >0x66</td>\n",
       "      <td id=\"T_1b5c4_row2_col7\" class=\"data row2 col7\" >0x77</td>\n",
       "      <td id=\"T_1b5c4_row2_col8\" class=\"data row2 col8\" >0x88</td>\n",
       "      <td id=\"T_1b5c4_row2_col9\" class=\"data row2 col9\" >0x99</td>\n",
       "      <td id=\"T_1b5c4_row2_col10\" class=\"data row2 col10\" >0xaa</td>\n",
       "      <td id=\"T_1b5c4_row2_col11\" class=\"data row2 col11\" >0xbb</td>\n",
       "      <td id=\"T_1b5c4_row2_col12\" class=\"data row2 col12\" >0xcc</td>\n",
       "      <td id=\"T_1b5c4_row2_col13\" class=\"data row2 col13\" >0xdd</td>\n",
       "      <td id=\"T_1b5c4_row2_col14\" class=\"data row2 col14\" >0xee</td>\n",
       "      <td id=\"T_1b5c4_row2_col15\" class=\"data row2 col15\" >0xff</td>\n",
       "    </tr>\n",
       "    <tr>\n",
       "      <th id=\"T_1b5c4_level0_row3\" class=\"row_heading level0 row3\" >Rank</th>\n",
       "      <td id=\"T_1b5c4_row3_col0\" class=\"data row3 col0\" >0</td>\n",
       "      <td id=\"T_1b5c4_row3_col1\" class=\"data row3 col1\" >0</td>\n",
       "      <td id=\"T_1b5c4_row3_col2\" class=\"data row3 col2\" >0</td>\n",
       "      <td id=\"T_1b5c4_row3_col3\" class=\"data row3 col3\" >0</td>\n",
       "      <td id=\"T_1b5c4_row3_col4\" class=\"data row3 col4\" >0</td>\n",
       "      <td id=\"T_1b5c4_row3_col5\" class=\"data row3 col5\" >0</td>\n",
       "      <td id=\"T_1b5c4_row3_col6\" class=\"data row3 col6\" >0</td>\n",
       "      <td id=\"T_1b5c4_row3_col7\" class=\"data row3 col7\" >0</td>\n",
       "      <td id=\"T_1b5c4_row3_col8\" class=\"data row3 col8\" >0</td>\n",
       "      <td id=\"T_1b5c4_row3_col9\" class=\"data row3 col9\" >0</td>\n",
       "      <td id=\"T_1b5c4_row3_col10\" class=\"data row3 col10\" >0</td>\n",
       "      <td id=\"T_1b5c4_row3_col11\" class=\"data row3 col11\" >0</td>\n",
       "      <td id=\"T_1b5c4_row3_col12\" class=\"data row3 col12\" >0</td>\n",
       "      <td id=\"T_1b5c4_row3_col13\" class=\"data row3 col13\" >0</td>\n",
       "      <td id=\"T_1b5c4_row3_col14\" class=\"data row3 col14\" >0</td>\n",
       "      <td id=\"T_1b5c4_row3_col15\" class=\"data row3 col15\" >0</td>\n",
       "    </tr>\n",
       "  </tbody>\n",
       "</table>\n"
      ],
      "text/plain": [
       "<pandas.io.formats.style.Styler at 0x2a8fad64eb0>"
      ]
     },
     "metadata": {},
     "output_type": "display_data"
    },
    {
     "data": {
      "text/html": [
       "<style type=\"text/css\">\n",
       "#T_e9f7f caption {\n",
       "  text-align: center;\n",
       "}\n",
       "#T_e9f7f_row1_col0, #T_e9f7f_row1_col1, #T_e9f7f_row1_col4, #T_e9f7f_row1_col6, #T_e9f7f_row1_col8, #T_e9f7f_row1_col13 {\n",
       "  color: green;\n",
       "}\n",
       "#T_e9f7f_row1_col2, #T_e9f7f_row1_col3, #T_e9f7f_row1_col5, #T_e9f7f_row1_col7, #T_e9f7f_row1_col9, #T_e9f7f_row1_col10, #T_e9f7f_row1_col11, #T_e9f7f_row1_col12, #T_e9f7f_row1_col14, #T_e9f7f_row1_col15 {\n",
       "  color: red;\n",
       "}\n",
       "</style>\n",
       "<table id=\"T_e9f7f\" style=\"font-size: 15px\">\n",
       "  <caption>AES Last Add Round Key </caption>\n",
       "  <thead>\n",
       "    <tr>\n",
       "      <th class=\"blank level0\" >&nbsp;</th>\n",
       "      <th id=\"T_e9f7f_level0_col0\" class=\"col_heading level0 col0\" >0</th>\n",
       "      <th id=\"T_e9f7f_level0_col1\" class=\"col_heading level0 col1\" >1</th>\n",
       "      <th id=\"T_e9f7f_level0_col2\" class=\"col_heading level0 col2\" >2</th>\n",
       "      <th id=\"T_e9f7f_level0_col3\" class=\"col_heading level0 col3\" >3</th>\n",
       "      <th id=\"T_e9f7f_level0_col4\" class=\"col_heading level0 col4\" >4</th>\n",
       "      <th id=\"T_e9f7f_level0_col5\" class=\"col_heading level0 col5\" >5</th>\n",
       "      <th id=\"T_e9f7f_level0_col6\" class=\"col_heading level0 col6\" >6</th>\n",
       "      <th id=\"T_e9f7f_level0_col7\" class=\"col_heading level0 col7\" >7</th>\n",
       "      <th id=\"T_e9f7f_level0_col8\" class=\"col_heading level0 col8\" >8</th>\n",
       "      <th id=\"T_e9f7f_level0_col9\" class=\"col_heading level0 col9\" >9</th>\n",
       "      <th id=\"T_e9f7f_level0_col10\" class=\"col_heading level0 col10\" >10</th>\n",
       "      <th id=\"T_e9f7f_level0_col11\" class=\"col_heading level0 col11\" >11</th>\n",
       "      <th id=\"T_e9f7f_level0_col12\" class=\"col_heading level0 col12\" >12</th>\n",
       "      <th id=\"T_e9f7f_level0_col13\" class=\"col_heading level0 col13\" >13</th>\n",
       "      <th id=\"T_e9f7f_level0_col14\" class=\"col_heading level0 col14\" >14</th>\n",
       "      <th id=\"T_e9f7f_level0_col15\" class=\"col_heading level0 col15\" >15</th>\n",
       "    </tr>\n",
       "  </thead>\n",
       "  <tbody>\n",
       "    <tr>\n",
       "      <th id=\"T_e9f7f_level0_row0\" class=\"row_heading level0 row0\" >Scores</th>\n",
       "      <td id=\"T_e9f7f_row0_col0\" class=\"data row0 col0\" >0.838</td>\n",
       "      <td id=\"T_e9f7f_row0_col1\" class=\"data row0 col1\" >0.826</td>\n",
       "      <td id=\"T_e9f7f_row0_col2\" class=\"data row0 col2\" >0.819</td>\n",
       "      <td id=\"T_e9f7f_row0_col3\" class=\"data row0 col3\" >0.824</td>\n",
       "      <td id=\"T_e9f7f_row0_col4\" class=\"data row0 col4\" >0.830</td>\n",
       "      <td id=\"T_e9f7f_row0_col5\" class=\"data row0 col5\" >0.828</td>\n",
       "      <td id=\"T_e9f7f_row0_col6\" class=\"data row0 col6\" >0.832</td>\n",
       "      <td id=\"T_e9f7f_row0_col7\" class=\"data row0 col7\" >0.824</td>\n",
       "      <td id=\"T_e9f7f_row0_col8\" class=\"data row0 col8\" >0.834</td>\n",
       "      <td id=\"T_e9f7f_row0_col9\" class=\"data row0 col9\" >0.821</td>\n",
       "      <td id=\"T_e9f7f_row0_col10\" class=\"data row0 col10\" >0.829</td>\n",
       "      <td id=\"T_e9f7f_row0_col11\" class=\"data row0 col11\" >0.818</td>\n",
       "      <td id=\"T_e9f7f_row0_col12\" class=\"data row0 col12\" >0.822</td>\n",
       "      <td id=\"T_e9f7f_row0_col13\" class=\"data row0 col13\" >0.836</td>\n",
       "      <td id=\"T_e9f7f_row0_col14\" class=\"data row0 col14\" >0.818</td>\n",
       "      <td id=\"T_e9f7f_row0_col15\" class=\"data row0 col15\" >0.835</td>\n",
       "    </tr>\n",
       "    <tr>\n",
       "      <th id=\"T_e9f7f_level0_row1\" class=\"row_heading level0 row1\" >Found Bytes</th>\n",
       "      <td id=\"T_e9f7f_row1_col0\" class=\"data row1 col0\" >0x36</td>\n",
       "      <td id=\"T_e9f7f_row1_col1\" class=\"data row1 col1\" >0xd0</td>\n",
       "      <td id=\"T_e9f7f_row1_col2\" class=\"data row1 col2\" >0x0</td>\n",
       "      <td id=\"T_e9f7f_row1_col3\" class=\"data row1 col3\" >0xb9</td>\n",
       "      <td id=\"T_e9f7f_row1_col4\" class=\"data row1 col4\" >0x1d</td>\n",
       "      <td id=\"T_e9f7f_row1_col5\" class=\"data row1 col5\" >0x7b</td>\n",
       "      <td id=\"T_e9f7f_row1_col6\" class=\"data row1 col6\" >0xb8</td>\n",
       "      <td id=\"T_e9f7f_row1_col7\" class=\"data row1 col7\" >0x0</td>\n",
       "      <td id=\"T_e9f7f_row1_col8\" class=\"data row1 col8\" >0x5f</td>\n",
       "      <td id=\"T_e9f7f_row1_col9\" class=\"data row1 col9\" >0x0</td>\n",
       "      <td id=\"T_e9f7f_row1_col10\" class=\"data row1 col10\" >0xff</td>\n",
       "      <td id=\"T_e9f7f_row1_col11\" class=\"data row1 col11\" >0x3f</td>\n",
       "      <td id=\"T_e9f7f_row1_col12\" class=\"data row1 col12\" >0x0</td>\n",
       "      <td id=\"T_e9f7f_row1_col13\" class=\"data row1 col13\" >0xba</td>\n",
       "      <td id=\"T_e9f7f_row1_col14\" class=\"data row1 col14\" >0x0</td>\n",
       "      <td id=\"T_e9f7f_row1_col15\" class=\"data row1 col15\" >0x44</td>\n",
       "    </tr>\n",
       "    <tr>\n",
       "      <th id=\"T_e9f7f_level0_row2\" class=\"row_heading level0 row2\" >Expected</th>\n",
       "      <td id=\"T_e9f7f_row2_col0\" class=\"data row2 col0\" >0x36</td>\n",
       "      <td id=\"T_e9f7f_row2_col1\" class=\"data row2 col1\" >0xd0</td>\n",
       "      <td id=\"T_e9f7f_row2_col2\" class=\"data row2 col2\" >0x24</td>\n",
       "      <td id=\"T_e9f7f_row2_col3\" class=\"data row2 col3\" >0x46</td>\n",
       "      <td id=\"T_e9f7f_row2_col4\" class=\"data row2 col4\" >0x1d</td>\n",
       "      <td id=\"T_e9f7f_row2_col5\" class=\"data row2 col5\" >0x84</td>\n",
       "      <td id=\"T_e9f7f_row2_col6\" class=\"data row2 col6\" >0xb8</td>\n",
       "      <td id=\"T_e9f7f_row2_col7\" class=\"data row2 col7\" >0x37</td>\n",
       "      <td id=\"T_e9f7f_row2_col8\" class=\"data row2 col8\" >0x5f</td>\n",
       "      <td id=\"T_e9f7f_row2_col9\" class=\"data row2 col9\" >0xc0</td>\n",
       "      <td id=\"T_e9f7f_row2_col10\" class=\"data row2 col10\" >0xf9</td>\n",
       "      <td id=\"T_e9f7f_row2_col11\" class=\"data row2 col11\" >0xc0</td>\n",
       "      <td id=\"T_e9f7f_row2_col12\" class=\"data row2 col12\" >0x4c</td>\n",
       "      <td id=\"T_e9f7f_row2_col13\" class=\"data row2 col13\" >0xba</td>\n",
       "      <td id=\"T_e9f7f_row2_col14\" class=\"data row2 col14\" >0xb6</td>\n",
       "      <td id=\"T_e9f7f_row2_col15\" class=\"data row2 col15\" >0xbb</td>\n",
       "    </tr>\n",
       "    <tr>\n",
       "      <th id=\"T_e9f7f_level0_row3\" class=\"row_heading level0 row3\" >Rank</th>\n",
       "      <td id=\"T_e9f7f_row3_col0\" class=\"data row3 col0\" >1</td>\n",
       "      <td id=\"T_e9f7f_row3_col1\" class=\"data row3 col1\" >0</td>\n",
       "      <td id=\"T_e9f7f_row3_col2\" class=\"data row3 col2\" >2</td>\n",
       "      <td id=\"T_e9f7f_row3_col3\" class=\"data row3 col3\" >1</td>\n",
       "      <td id=\"T_e9f7f_row3_col4\" class=\"data row3 col4\" >1</td>\n",
       "      <td id=\"T_e9f7f_row3_col5\" class=\"data row3 col5\" >1</td>\n",
       "      <td id=\"T_e9f7f_row3_col6\" class=\"data row3 col6\" >0</td>\n",
       "      <td id=\"T_e9f7f_row3_col7\" class=\"data row3 col7\" >2</td>\n",
       "      <td id=\"T_e9f7f_row3_col8\" class=\"data row3 col8\" >0</td>\n",
       "      <td id=\"T_e9f7f_row3_col9\" class=\"data row3 col9\" >2</td>\n",
       "      <td id=\"T_e9f7f_row3_col10\" class=\"data row3 col10\" >2</td>\n",
       "      <td id=\"T_e9f7f_row3_col11\" class=\"data row3 col11\" >1</td>\n",
       "      <td id=\"T_e9f7f_row3_col12\" class=\"data row3 col12\" >3</td>\n",
       "      <td id=\"T_e9f7f_row3_col13\" class=\"data row3 col13\" >0</td>\n",
       "      <td id=\"T_e9f7f_row3_col14\" class=\"data row3 col14\" >2</td>\n",
       "      <td id=\"T_e9f7f_row3_col15\" class=\"data row3 col15\" >1</td>\n",
       "    </tr>\n",
       "  </tbody>\n",
       "</table>\n"
      ],
      "text/plain": [
       "<pandas.io.formats.style.Styler at 0x2a8d6fa9910>"
      ]
     },
     "metadata": {},
     "output_type": "display_data"
    },
    {
     "data": {
      "text/html": [
       "<style type=\"text/css\">\n",
       "#T_a5df0 caption {\n",
       "  text-align: center;\n",
       "}\n",
       "#T_a5df0_row1_col0, #T_a5df0_row1_col1, #T_a5df0_row1_col2, #T_a5df0_row1_col3, #T_a5df0_row1_col4, #T_a5df0_row1_col5, #T_a5df0_row1_col6, #T_a5df0_row1_col7, #T_a5df0_row1_col8, #T_a5df0_row1_col9, #T_a5df0_row1_col10, #T_a5df0_row1_col11, #T_a5df0_row1_col12, #T_a5df0_row1_col13, #T_a5df0_row1_col14, #T_a5df0_row1_col15 {\n",
       "  color: green;\n",
       "}\n",
       "</style>\n",
       "<table id=\"T_a5df0\" style=\"font-size: 15px\">\n",
       "  <caption>AES Last Sub Bytes </caption>\n",
       "  <thead>\n",
       "    <tr>\n",
       "      <th class=\"blank level0\" >&nbsp;</th>\n",
       "      <th id=\"T_a5df0_level0_col0\" class=\"col_heading level0 col0\" >0</th>\n",
       "      <th id=\"T_a5df0_level0_col1\" class=\"col_heading level0 col1\" >1</th>\n",
       "      <th id=\"T_a5df0_level0_col2\" class=\"col_heading level0 col2\" >2</th>\n",
       "      <th id=\"T_a5df0_level0_col3\" class=\"col_heading level0 col3\" >3</th>\n",
       "      <th id=\"T_a5df0_level0_col4\" class=\"col_heading level0 col4\" >4</th>\n",
       "      <th id=\"T_a5df0_level0_col5\" class=\"col_heading level0 col5\" >5</th>\n",
       "      <th id=\"T_a5df0_level0_col6\" class=\"col_heading level0 col6\" >6</th>\n",
       "      <th id=\"T_a5df0_level0_col7\" class=\"col_heading level0 col7\" >7</th>\n",
       "      <th id=\"T_a5df0_level0_col8\" class=\"col_heading level0 col8\" >8</th>\n",
       "      <th id=\"T_a5df0_level0_col9\" class=\"col_heading level0 col9\" >9</th>\n",
       "      <th id=\"T_a5df0_level0_col10\" class=\"col_heading level0 col10\" >10</th>\n",
       "      <th id=\"T_a5df0_level0_col11\" class=\"col_heading level0 col11\" >11</th>\n",
       "      <th id=\"T_a5df0_level0_col12\" class=\"col_heading level0 col12\" >12</th>\n",
       "      <th id=\"T_a5df0_level0_col13\" class=\"col_heading level0 col13\" >13</th>\n",
       "      <th id=\"T_a5df0_level0_col14\" class=\"col_heading level0 col14\" >14</th>\n",
       "      <th id=\"T_a5df0_level0_col15\" class=\"col_heading level0 col15\" >15</th>\n",
       "    </tr>\n",
       "  </thead>\n",
       "  <tbody>\n",
       "    <tr>\n",
       "      <th id=\"T_a5df0_level0_row0\" class=\"row_heading level0 row0\" >Scores</th>\n",
       "      <td id=\"T_a5df0_row0_col0\" class=\"data row0 col0\" >0.814</td>\n",
       "      <td id=\"T_a5df0_row0_col1\" class=\"data row0 col1\" >0.834</td>\n",
       "      <td id=\"T_a5df0_row0_col2\" class=\"data row0 col2\" >0.829</td>\n",
       "      <td id=\"T_a5df0_row0_col3\" class=\"data row0 col3\" >0.817</td>\n",
       "      <td id=\"T_a5df0_row0_col4\" class=\"data row0 col4\" >0.827</td>\n",
       "      <td id=\"T_a5df0_row0_col5\" class=\"data row0 col5\" >0.819</td>\n",
       "      <td id=\"T_a5df0_row0_col6\" class=\"data row0 col6\" >0.826</td>\n",
       "      <td id=\"T_a5df0_row0_col7\" class=\"data row0 col7\" >0.827</td>\n",
       "      <td id=\"T_a5df0_row0_col8\" class=\"data row0 col8\" >0.813</td>\n",
       "      <td id=\"T_a5df0_row0_col9\" class=\"data row0 col9\" >0.796</td>\n",
       "      <td id=\"T_a5df0_row0_col10\" class=\"data row0 col10\" >0.804</td>\n",
       "      <td id=\"T_a5df0_row0_col11\" class=\"data row0 col11\" >0.808</td>\n",
       "      <td id=\"T_a5df0_row0_col12\" class=\"data row0 col12\" >0.832</td>\n",
       "      <td id=\"T_a5df0_row0_col13\" class=\"data row0 col13\" >0.830</td>\n",
       "      <td id=\"T_a5df0_row0_col14\" class=\"data row0 col14\" >0.812</td>\n",
       "      <td id=\"T_a5df0_row0_col15\" class=\"data row0 col15\" >0.819</td>\n",
       "    </tr>\n",
       "    <tr>\n",
       "      <th id=\"T_a5df0_level0_row1\" class=\"row_heading level0 row1\" >Found Bytes</th>\n",
       "      <td id=\"T_a5df0_row1_col0\" class=\"data row1 col0\" >0x36</td>\n",
       "      <td id=\"T_a5df0_row1_col1\" class=\"data row1 col1\" >0xd0</td>\n",
       "      <td id=\"T_a5df0_row1_col2\" class=\"data row1 col2\" >0x24</td>\n",
       "      <td id=\"T_a5df0_row1_col3\" class=\"data row1 col3\" >0x46</td>\n",
       "      <td id=\"T_a5df0_row1_col4\" class=\"data row1 col4\" >0x1d</td>\n",
       "      <td id=\"T_a5df0_row1_col5\" class=\"data row1 col5\" >0x84</td>\n",
       "      <td id=\"T_a5df0_row1_col6\" class=\"data row1 col6\" >0xb8</td>\n",
       "      <td id=\"T_a5df0_row1_col7\" class=\"data row1 col7\" >0x37</td>\n",
       "      <td id=\"T_a5df0_row1_col8\" class=\"data row1 col8\" >0x5f</td>\n",
       "      <td id=\"T_a5df0_row1_col9\" class=\"data row1 col9\" >0xc0</td>\n",
       "      <td id=\"T_a5df0_row1_col10\" class=\"data row1 col10\" >0xf9</td>\n",
       "      <td id=\"T_a5df0_row1_col11\" class=\"data row1 col11\" >0xc0</td>\n",
       "      <td id=\"T_a5df0_row1_col12\" class=\"data row1 col12\" >0x4c</td>\n",
       "      <td id=\"T_a5df0_row1_col13\" class=\"data row1 col13\" >0xba</td>\n",
       "      <td id=\"T_a5df0_row1_col14\" class=\"data row1 col14\" >0xb6</td>\n",
       "      <td id=\"T_a5df0_row1_col15\" class=\"data row1 col15\" >0xbb</td>\n",
       "    </tr>\n",
       "    <tr>\n",
       "      <th id=\"T_a5df0_level0_row2\" class=\"row_heading level0 row2\" >Expected</th>\n",
       "      <td id=\"T_a5df0_row2_col0\" class=\"data row2 col0\" >0x36</td>\n",
       "      <td id=\"T_a5df0_row2_col1\" class=\"data row2 col1\" >0xd0</td>\n",
       "      <td id=\"T_a5df0_row2_col2\" class=\"data row2 col2\" >0x24</td>\n",
       "      <td id=\"T_a5df0_row2_col3\" class=\"data row2 col3\" >0x46</td>\n",
       "      <td id=\"T_a5df0_row2_col4\" class=\"data row2 col4\" >0x1d</td>\n",
       "      <td id=\"T_a5df0_row2_col5\" class=\"data row2 col5\" >0x84</td>\n",
       "      <td id=\"T_a5df0_row2_col6\" class=\"data row2 col6\" >0xb8</td>\n",
       "      <td id=\"T_a5df0_row2_col7\" class=\"data row2 col7\" >0x37</td>\n",
       "      <td id=\"T_a5df0_row2_col8\" class=\"data row2 col8\" >0x5f</td>\n",
       "      <td id=\"T_a5df0_row2_col9\" class=\"data row2 col9\" >0xc0</td>\n",
       "      <td id=\"T_a5df0_row2_col10\" class=\"data row2 col10\" >0xf9</td>\n",
       "      <td id=\"T_a5df0_row2_col11\" class=\"data row2 col11\" >0xc0</td>\n",
       "      <td id=\"T_a5df0_row2_col12\" class=\"data row2 col12\" >0x4c</td>\n",
       "      <td id=\"T_a5df0_row2_col13\" class=\"data row2 col13\" >0xba</td>\n",
       "      <td id=\"T_a5df0_row2_col14\" class=\"data row2 col14\" >0xb6</td>\n",
       "      <td id=\"T_a5df0_row2_col15\" class=\"data row2 col15\" >0xbb</td>\n",
       "    </tr>\n",
       "    <tr>\n",
       "      <th id=\"T_a5df0_level0_row3\" class=\"row_heading level0 row3\" >Rank</th>\n",
       "      <td id=\"T_a5df0_row3_col0\" class=\"data row3 col0\" >0</td>\n",
       "      <td id=\"T_a5df0_row3_col1\" class=\"data row3 col1\" >0</td>\n",
       "      <td id=\"T_a5df0_row3_col2\" class=\"data row3 col2\" >0</td>\n",
       "      <td id=\"T_a5df0_row3_col3\" class=\"data row3 col3\" >0</td>\n",
       "      <td id=\"T_a5df0_row3_col4\" class=\"data row3 col4\" >0</td>\n",
       "      <td id=\"T_a5df0_row3_col5\" class=\"data row3 col5\" >0</td>\n",
       "      <td id=\"T_a5df0_row3_col6\" class=\"data row3 col6\" >0</td>\n",
       "      <td id=\"T_a5df0_row3_col7\" class=\"data row3 col7\" >0</td>\n",
       "      <td id=\"T_a5df0_row3_col8\" class=\"data row3 col8\" >0</td>\n",
       "      <td id=\"T_a5df0_row3_col9\" class=\"data row3 col9\" >0</td>\n",
       "      <td id=\"T_a5df0_row3_col10\" class=\"data row3 col10\" >0</td>\n",
       "      <td id=\"T_a5df0_row3_col11\" class=\"data row3 col11\" >0</td>\n",
       "      <td id=\"T_a5df0_row3_col12\" class=\"data row3 col12\" >0</td>\n",
       "      <td id=\"T_a5df0_row3_col13\" class=\"data row3 col13\" >0</td>\n",
       "      <td id=\"T_a5df0_row3_col14\" class=\"data row3 col14\" >0</td>\n",
       "      <td id=\"T_a5df0_row3_col15\" class=\"data row3 col15\" >0</td>\n",
       "    </tr>\n",
       "  </tbody>\n",
       "</table>\n"
      ],
      "text/plain": [
       "<pandas.io.formats.style.Styler at 0x2a8fad64eb0>"
      ]
     },
     "metadata": {},
     "output_type": "display_data"
    }
   ],
   "source": [
    "attack.report()"
   ]
  },
  {
   "cell_type": "code",
   "execution_count": 9,
   "id": "ef59c5d3",
   "metadata": {
    "scrolled": false
   },
   "outputs": [
    {
     "name": "stdout",
     "output_type": "stream",
     "text": [
      "===================================== AES First Add Round Key  =====================================\n"
     ]
    },
    {
     "name": "stderr",
     "output_type": "stream",
     "text": [
      "C:\\Users\\Tes\\miniconda3\\envs\\SCA\\lib\\site-packages\\ipywidgets\\widgets\\widget.py:528: DeprecationWarning: The `ipykernel.comm.Comm` class has been deprecated. Please use the `comm` module instead.For creating comms, use the function `from comm import create_comm`.\n",
      "  self.comm = Comm(**args)\n"
     ]
    },
    {
     "data": {
      "application/vnd.jupyter.widget-view+json": {
       "model_id": "b5351964a051497aac5571b931b5a627",
       "version_major": 2,
       "version_minor": 0
      },
      "text/plain": [
       "HBox(children=(Button(description='0', style=ButtonStyle()), Button(description='1', style=ButtonStyle()), But…"
      ]
     },
     "metadata": {},
     "output_type": "display_data"
    },
    {
     "data": {
      "application/vnd.jupyter.widget-view+json": {
       "model_id": "b741545f5a9142a483ec3a3626c34307",
       "version_major": 2,
       "version_minor": 0
      },
      "text/plain": [
       "Output(layout=Layout(height='400px'))"
      ]
     },
     "metadata": {},
     "output_type": "display_data"
    },
    {
     "name": "stdout",
     "output_type": "stream",
     "text": [
      "======================================= AES First Sub Bytes  =======================================\n"
     ]
    },
    {
     "data": {
      "application/vnd.jupyter.widget-view+json": {
       "model_id": "96d37bbb57bd41988301f6778e999e01",
       "version_major": 2,
       "version_minor": 0
      },
      "text/plain": [
       "HBox(children=(Button(description='0', style=ButtonStyle()), Button(description='1', style=ButtonStyle()), But…"
      ]
     },
     "metadata": {},
     "output_type": "display_data"
    },
    {
     "data": {
      "application/vnd.jupyter.widget-view+json": {
       "model_id": "96d023b8dc054d45bdffb99e8254d15c",
       "version_major": 2,
       "version_minor": 0
      },
      "text/plain": [
       "Output(layout=Layout(height='400px'))"
      ]
     },
     "metadata": {},
     "output_type": "display_data"
    },
    {
     "name": "stdout",
     "output_type": "stream",
     "text": [
      "===================================== AES Last Add Round Key  ======================================\n"
     ]
    },
    {
     "data": {
      "application/vnd.jupyter.widget-view+json": {
       "model_id": "df209326004248aea4ef378a9dfde07c",
       "version_major": 2,
       "version_minor": 0
      },
      "text/plain": [
       "HBox(children=(Button(description='0', style=ButtonStyle()), Button(description='1', style=ButtonStyle()), But…"
      ]
     },
     "metadata": {},
     "output_type": "display_data"
    },
    {
     "data": {
      "application/vnd.jupyter.widget-view+json": {
       "model_id": "3b96371b10544aa6be78a2ab321365bf",
       "version_major": 2,
       "version_minor": 0
      },
      "text/plain": [
       "Output(layout=Layout(height='400px'))"
      ]
     },
     "metadata": {},
     "output_type": "display_data"
    },
    {
     "name": "stdout",
     "output_type": "stream",
     "text": [
      "======================================= AES Last Sub Bytes  ========================================\n"
     ]
    },
    {
     "data": {
      "application/vnd.jupyter.widget-view+json": {
       "model_id": "9b801336f6874c41a75772a71d48ea69",
       "version_major": 2,
       "version_minor": 0
      },
      "text/plain": [
       "HBox(children=(Button(description='0', style=ButtonStyle()), Button(description='1', style=ButtonStyle()), But…"
      ]
     },
     "metadata": {},
     "output_type": "display_data"
    },
    {
     "data": {
      "application/vnd.jupyter.widget-view+json": {
       "model_id": "25c73a6457ef460785250b0ff946953f",
       "version_major": 2,
       "version_minor": 0
      },
      "text/plain": [
       "Output(layout=Layout(height='400px'))"
      ]
     },
     "metadata": {},
     "output_type": "display_data"
    }
   ],
   "source": [
    "attack.show_result()"
   ]
  },
  {
   "cell_type": "code",
   "execution_count": null,
   "id": "97a5915c",
   "metadata": {},
   "outputs": [],
   "source": []
  }
 ],
 "metadata": {
  "kernelspec": {
   "display_name": "Python [conda env:SCA] *",
   "language": "python",
   "name": "conda-env-SCA-py"
  },
  "language_info": {
   "codemirror_mode": {
    "name": "ipython",
    "version": 3
   },
   "file_extension": ".py",
   "mimetype": "text/x-python",
   "name": "python",
   "nbconvert_exporter": "python",
   "pygments_lexer": "ipython3",
   "version": "3.9.18"
  }
 },
 "nbformat": 4,
 "nbformat_minor": 5
}
