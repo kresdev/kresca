{
 "cells": [
  {
   "cell_type": "code",
   "execution_count": null,
   "id": "d6faf85f",
   "metadata": {},
   "outputs": [],
   "source": [
    "import sys\n",
    "sys.path.append('../../')\n",
    "\n",
    "import estraces\n",
    "import scared\n",
    "from kresca.plot import CurvePlot\n",
    "from kresca.attack import NonProfileAttack"
   ]
  },
  {
   "cell_type": "markdown",
   "id": "a165fcc3",
   "metadata": {},
   "source": [
    "## Import Traces"
   ]
  },
  {
   "cell_type": "code",
   "execution_count": null,
   "id": "2a69fc72",
   "metadata": {},
   "outputs": [],
   "source": [
    "ths = estraces.read_ths_from_ets_file('../../Traces/ETS/TinyAES_1k.ets')"
   ]
  },
  {
   "cell_type": "code",
   "execution_count": null,
   "id": "a4b2726f",
   "metadata": {},
   "outputs": [],
   "source": [
    "print(ths)"
   ]
  },
  {
   "cell_type": "markdown",
   "id": "dd732833",
   "metadata": {},
   "source": [
    "## Plot Traces"
   ]
  },
  {
   "cell_type": "code",
   "execution_count": null,
   "id": "7707495b",
   "metadata": {},
   "outputs": [],
   "source": [
    "#put inline=True if you want to display on notebook\n",
    "CurvePlot(ths.samples[:5]) "
   ]
  },
  {
   "cell_type": "markdown",
   "id": "e98b9d12",
   "metadata": {},
   "source": [
    "## Make Selection Functions"
   ]
  },
  {
   "cell_type": "code",
   "execution_count": null,
   "id": "540f4f54",
   "metadata": {},
   "outputs": [],
   "source": [
    "first_addroundkey = scared.aes.selection_functions.encrypt.FirstAddRoundKey()\n",
    "first_subbytes = scared.aes.selection_functions.encrypt.FirstSubBytes()\n",
    "last_addroundkey = scared.aes.selection_functions.encrypt.LastAddRoundKey()\n",
    "last_subbytes = scared.aes.selection_functions.encrypt.LastSubBytes()\n",
    "last_deltaround = scared.aes.selection_functions.encrypt.DeltaRLastRounds()"
   ]
  },
  {
   "cell_type": "code",
   "execution_count": null,
   "id": "005b75ec",
   "metadata": {},
   "outputs": [],
   "source": [
    "AES_selection_functions = {\n",
    "    'AES First Add Round Key': first_addroundkey,\n",
    "    'AES First Sub Bytes': first_subbytes,\n",
    "    'AES Last Add Round Key': last_addroundkey,\n",
    "    'AES Last Sub Bytes': last_subbytes,\n",
    "#     'AES Last Delta R': last_deltaround,\n",
    "}"
   ]
  },
  {
   "cell_type": "markdown",
   "id": "01aba996",
   "metadata": {},
   "source": [
    "## Make Attack Object"
   ]
  },
  {
   "cell_type": "code",
   "execution_count": null,
   "id": "abf57136",
   "metadata": {},
   "outputs": [],
   "source": [
    "attack = NonProfileAttack(\n",
    "    ths=ths,\n",
    "    selection_functions=AES_selection_functions\n",
    ")"
   ]
  },
  {
   "cell_type": "code",
   "execution_count": null,
   "id": "c4738796",
   "metadata": {},
   "outputs": [],
   "source": [
    "attack.run()"
   ]
  },
  {
   "cell_type": "code",
   "execution_count": null,
   "id": "79923663",
   "metadata": {},
   "outputs": [],
   "source": [
    "attack.report()"
   ]
  },
  {
   "cell_type": "code",
   "execution_count": null,
   "id": "ef59c5d3",
   "metadata": {},
   "outputs": [],
   "source": [
    "attack.show_result()"
   ]
  }
 ],
 "metadata": {
  "kernelspec": {
   "display_name": "Python 3 (ipykernel)",
   "language": "python",
   "name": "python3"
  },
  "language_info": {
   "codemirror_mode": {
    "name": "ipython",
    "version": 3
   },
   "file_extension": ".py",
   "mimetype": "text/x-python",
   "name": "python",
   "nbconvert_exporter": "python",
   "pygments_lexer": "ipython3",
   "version": "3.12.1"
  }
 },
 "nbformat": 4,
 "nbformat_minor": 5
}
