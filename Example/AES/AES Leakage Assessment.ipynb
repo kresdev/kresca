{
 "cells": [
  {
   "cell_type": "code",
   "execution_count": null,
   "id": "795081de",
   "metadata": {},
   "outputs": [],
   "source": [
    "import sys\n",
    "sys.path.append('../../')\n",
    "\n",
    "import estraces\n",
    "import scared\n",
    "from kresca.plot import CurvePlot\n",
    "from kresca.reverse import LeakageAssessment"
   ]
  },
  {
   "cell_type": "markdown",
   "id": "e877000f",
   "metadata": {},
   "source": [
    "## Import Traces"
   ]
  },
  {
   "cell_type": "code",
   "execution_count": null,
   "id": "84e5ed4a",
   "metadata": {},
   "outputs": [],
   "source": [
    "ths = estraces.read_ths_from_ets_file('../../Traces/ETS/TinyAES_1k.ets')"
   ]
  },
  {
   "cell_type": "code",
   "execution_count": null,
   "id": "3a50f359",
   "metadata": {},
   "outputs": [],
   "source": [
    "print(ths)"
   ]
  },
  {
   "cell_type": "markdown",
   "id": "307fd400",
   "metadata": {},
   "source": [
    "## Plot Traces"
   ]
  },
  {
   "cell_type": "code",
   "execution_count": null,
   "id": "71ca1b64",
   "metadata": {},
   "outputs": [],
   "source": [
    "#put inline=True if you want to display on notebook\n",
    "CurvePlot(ths.samples[:5], inline=True) "
   ]
  },
  {
   "cell_type": "markdown",
   "id": "0f384a92",
   "metadata": {},
   "source": [
    "## Make Selection Funtions"
   ]
  },
  {
   "cell_type": "code",
   "execution_count": null,
   "id": "acd53bad",
   "metadata": {},
   "outputs": [],
   "source": [
    "@scared.reverse_selection_function\n",
    "def plaintext(plaintext):\n",
    "    return plaintext\n",
    "\n",
    "@scared.reverse_selection_function\n",
    "def first_addroundkey(plaintext, key):\n",
    "    return scared.aes.encrypt(plaintext, key, at_round=0, after_step=scared.aes.Steps.ADD_ROUND_KEY)\n",
    "\n",
    "@scared.reverse_selection_function\n",
    "def first_subbytes(plaintext, key):\n",
    "    return scared.aes.encrypt(plaintext, key, at_round=1, after_step=scared.aes.Steps.SUB_BYTES)\n",
    "\n",
    "@scared.reverse_selection_function\n",
    "def last_addroundkey(ciphertext, key):\n",
    "    return scared.aes.decrypt(ciphertext, key, at_round=0, after_step=scared.aes.Steps.ADD_ROUND_KEY)\n",
    "\n",
    "@scared.reverse_selection_function\n",
    "def last_subbytes(ciphertext, key):\n",
    "    return scared.aes.decrypt(ciphertext, key, at_round=1, after_step=scared.aes.Steps.SUB_BYTES)\n",
    "\n",
    "@scared.reverse_selection_function\n",
    "def ciphertext(ciphertext):\n",
    "    return ciphertext"
   ]
  },
  {
   "cell_type": "code",
   "execution_count": null,
   "id": "ca229aec",
   "metadata": {},
   "outputs": [],
   "source": [
    "AES_selection_functions = {\n",
    "    'AES Plaintext': plaintext,\n",
    "    'AES First Add Round Key': first_addroundkey,\n",
    "    'AES First Sub Bytes': first_subbytes,\n",
    "    'AES Last Add Round Key': last_addroundkey,\n",
    "    'AES Last Sub Bytes': last_subbytes,\n",
    "    'AES Ciphertext': ciphertext,\n",
    "}"
   ]
  },
  {
   "cell_type": "markdown",
   "id": "fc95dcfb",
   "metadata": {},
   "source": [
    "## Make Leakage Assessment Object"
   ]
  },
  {
   "cell_type": "code",
   "execution_count": null,
   "id": "4ca08ebe",
   "metadata": {},
   "outputs": [],
   "source": [
    "reverse = LeakageAssessment(\n",
    "    ths=ths,\n",
    "    selection_functions=AES_selection_functions,\n",
    "#     distinguisher=scared.CPAReverse,\n",
    "#     model=scared.HammingWeight(),\n",
    "#     frame=range(1750, 2750),\n",
    "#     preprocesses=[]\n",
    ")"
   ]
  },
  {
   "cell_type": "code",
   "execution_count": null,
   "id": "a856b004",
   "metadata": {},
   "outputs": [],
   "source": [
    "reverse.run()"
   ]
  },
  {
   "cell_type": "code",
   "execution_count": null,
   "id": "04587268",
   "metadata": {
    "scrolled": true
   },
   "outputs": [],
   "source": [
    "reverse.show_result()"
   ]
  }
 ],
 "metadata": {
  "kernelspec": {
   "display_name": "Python 3 (ipykernel)",
   "language": "python",
   "name": "python3"
  },
  "language_info": {
   "codemirror_mode": {
    "name": "ipython",
    "version": 3
   },
   "file_extension": ".py",
   "mimetype": "text/x-python",
   "name": "python",
   "nbconvert_exporter": "python",
   "pygments_lexer": "ipython3",
   "version": "3.12.1"
  }
 },
 "nbformat": 4,
 "nbformat_minor": 5
}
