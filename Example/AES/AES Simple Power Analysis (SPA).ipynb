{
 "cells": [
  {
   "cell_type": "code",
   "execution_count": null,
   "id": "beda6e29",
   "metadata": {},
   "outputs": [],
   "source": [
    "import sys\n",
    "sys.path.append('../../')\n",
    "\n",
    "import matplotlib.pyplot as plt\n",
    "import estraces\n",
    "import scared\n",
    "from kresca.plot import CurvePlot\n",
    "from kresca.reverse import LeakageAssessment"
   ]
  },
  {
   "cell_type": "markdown",
   "id": "bae8dca1",
   "metadata": {},
   "source": [
    "## Import Traces"
   ]
  },
  {
   "cell_type": "code",
   "execution_count": null,
   "id": "7a07dce9",
   "metadata": {},
   "outputs": [],
   "source": [
    "ths = estraces.read_ths_from_ets_file('../../Traces/ETS/TinyAES_1k.ets')"
   ]
  },
  {
   "cell_type": "code",
   "execution_count": null,
   "id": "81447ea1",
   "metadata": {},
   "outputs": [],
   "source": [
    "print(ths)"
   ]
  },
  {
   "cell_type": "markdown",
   "id": "c1f46707",
   "metadata": {},
   "source": [
    "## Plot Traces"
   ]
  },
  {
   "cell_type": "markdown",
   "id": "3b240c24",
   "metadata": {},
   "source": [
    "### kresca"
   ]
  },
  {
   "cell_type": "code",
   "execution_count": null,
   "id": "d109be94",
   "metadata": {},
   "outputs": [],
   "source": [
    "#put inline=True if you want to display on notebook\n",
    "CurvePlot(ths.samples[:5], inline=True) "
   ]
  },
  {
   "cell_type": "markdown",
   "id": "b3190fdd",
   "metadata": {},
   "source": [
    "### AES Full"
   ]
  },
  {
   "cell_type": "code",
   "execution_count": null,
   "id": "8573fe2d",
   "metadata": {},
   "outputs": [],
   "source": [
    "plt.figure(figsize=(16, 6))\n",
    "plt.plot(ths.samples[0])\n",
    "plt.xlabel('Points')\n",
    "plt.ylabel('Power/Magnitude')\n",
    "plt.title('AES Full')\n",
    "\n",
    "plt.axvspan(0, 2000, color='green', alpha=0.3, label='key schedule')\n",
    "plt.axvspan(2000, 7000, color='red', alpha=0.3, label='10 Round of AES')\n",
    "plt.legend(loc='upper right')\n",
    "plt.show()"
   ]
  },
  {
   "cell_type": "markdown",
   "id": "8ec24031",
   "metadata": {},
   "source": [
    "### 1 Round of AES"
   ]
  },
  {
   "cell_type": "code",
   "execution_count": null,
   "id": "099624f2",
   "metadata": {},
   "outputs": [],
   "source": [
    "plt.figure(figsize=(16, 6))\n",
    "plt.plot(ths.samples[0])\n",
    "plt.xlabel('Points')\n",
    "plt.ylabel('Power/Magnitude')\n",
    "plt.xlim(1750, 2750)\n",
    "plt.title('1 Round of AES')\n",
    "\n",
    "plt.axvspan(1940, 2060, color='red', alpha=0.3, label='Add Round Key')\n",
    "plt.axvspan(2060, 2180, color='green', alpha=0.3, label='Sub Bytes')\n",
    "plt.axvspan(2180, 2210, color='yellow', alpha=0.3, label='Shift Rows')\n",
    "plt.axvspan(2210, 2470, color='purple', alpha=0.3, label='Mix Column')\n",
    "plt.legend(loc='upper right')\n",
    "plt.show()"
   ]
  }
 ],
 "metadata": {
  "kernelspec": {
   "display_name": "Python 3 (ipykernel)",
   "language": "python",
   "name": "python3"
  },
  "language_info": {
   "codemirror_mode": {
    "name": "ipython",
    "version": 3
   },
   "file_extension": ".py",
   "mimetype": "text/x-python",
   "name": "python",
   "nbconvert_exporter": "python",
   "pygments_lexer": "ipython3",
   "version": "3.12.1"
  }
 },
 "nbformat": 4,
 "nbformat_minor": 5
}
