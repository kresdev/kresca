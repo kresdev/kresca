{
 "cells": [
  {
   "cell_type": "code",
   "execution_count": null,
   "id": "795081de",
   "metadata": {},
   "outputs": [],
   "source": [
    "import sys\n",
    "sys.path.append('../../')\n",
    "\n",
    "import estraces\n",
    "import scared\n",
    "from kresca.plot import CurvePlot\n",
    "from kresca.reverse import LeakageAssessment"
   ]
  },
  {
   "cell_type": "markdown",
   "id": "e877000f",
   "metadata": {},
   "source": [
    "## Import Traces"
   ]
  },
  {
   "cell_type": "code",
   "execution_count": null,
   "id": "84e5ed4a",
   "metadata": {},
   "outputs": [],
   "source": [
    "ths = estraces.read_ths_from_ets_file('../../Traces/DES_1k.ets')"
   ]
  },
  {
   "cell_type": "code",
   "execution_count": null,
   "id": "3a50f359",
   "metadata": {},
   "outputs": [],
   "source": [
    "print(ths)"
   ]
  },
  {
   "cell_type": "markdown",
   "id": "307fd400",
   "metadata": {},
   "source": [
    "## Plot Traces"
   ]
  },
  {
   "cell_type": "code",
   "execution_count": null,
   "id": "71ca1b64",
   "metadata": {},
   "outputs": [],
   "source": [
    "#put inline=True if you want to display on notebook\n",
    "CurvePlot(ths.samples[:5], inline=True) "
   ]
  },
  {
   "cell_type": "markdown",
   "id": "0f384a92",
   "metadata": {},
   "source": [
    "## Make Selection Funtions"
   ]
  },
  {
   "cell_type": "code",
   "execution_count": null,
   "id": "acd53bad",
   "metadata": {},
   "outputs": [],
   "source": [
    "@scared.reverse_selection_function\n",
    "def plaintext(plaintext):\n",
    "    return plaintext\n",
    "\n",
    "@scared.reverse_selection_function\n",
    "def first_addroundkey(plaintext, key):\n",
    "    return scared.des.encrypt(plaintext, key, at_round=0, after_step=scared.des.Steps.ADD_ROUND_KEY)\n",
    "\n",
    "@scared.reverse_selection_function\n",
    "def first_sboxes(plaintext, key):\n",
    "    return scared.des.encrypt(plaintext, key, at_round=0, after_step=scared.des.Steps.SBOXES)\n",
    "\n",
    "@scared.reverse_selection_function\n",
    "def first_feistel(plaintext, key):\n",
    "    return scared.des.encrypt(plaintext, key, at_round=0, after_step=scared.des.Steps.INV_PERMUTATION_P_RIGHT)\n",
    "\n",
    "@scared.reverse_selection_function\n",
    "def last_addroundkey(ciphertext, key):\n",
    "    return scared.des.encrypt(ciphertext, key, at_round=0, after_step=scared.des.Steps.ADD_ROUND_KEY)\n",
    "\n",
    "@scared.reverse_selection_function\n",
    "def last_sboxes(ciphertext, key):\n",
    "    return scared.des.encrypt(ciphertext, key, at_round=0, after_step=scared.des.Steps.SBOXES)\n",
    "\n",
    "@scared.reverse_selection_function\n",
    "def last_feistel(ciphertext, key):\n",
    "    return scared.des.encrypt(ciphertext, key, at_round=0, after_step=scared.des.Steps.INV_PERMUTATION_P_RIGHT)\n",
    "\n",
    "@scared.reverse_selection_function\n",
    "def ciphertext(ciphertext):\n",
    "    return ciphertext"
   ]
  },
  {
   "cell_type": "code",
   "execution_count": null,
   "id": "ca229aec",
   "metadata": {},
   "outputs": [],
   "source": [
    "DES_selection_functions = {\n",
    "    'DES Plaintext': plaintext,\n",
    "    'DES First Add Round Key': first_addroundkey,\n",
    "    'DES First Sboxes': first_sboxes,\n",
    "    'DES First Feistel': first_feistel,\n",
    "#     'DES Last Add Round Key': last_addroundkey,\n",
    "#     'DES Last Sboxes': last_sboxes,\n",
    "#     'DES Last Feistel': last_feistel,\n",
    "#     'DES Ciphertext': ciphertext,\n",
    "}"
   ]
  },
  {
   "cell_type": "markdown",
   "id": "fc95dcfb",
   "metadata": {},
   "source": [
    "## Make Leakage Assessment Object"
   ]
  },
  {
   "cell_type": "code",
   "execution_count": null,
   "id": "4ca08ebe",
   "metadata": {},
   "outputs": [],
   "source": [
    "reverse = LeakageAssessment(\n",
    "    ths=ths,\n",
    "    selection_functions=DES_selection_functions,\n",
    "#     distinguisher=scared.CPAReverse,\n",
    "#     model=scared.HammingWeight(),\n",
    "#     frame=range(20000, 30000),\n",
    "#     preprocesses=[]\n",
    ")"
   ]
  },
  {
   "cell_type": "code",
   "execution_count": null,
   "id": "a856b004",
   "metadata": {},
   "outputs": [],
   "source": [
    "reverse.run()"
   ]
  },
  {
   "cell_type": "code",
   "execution_count": null,
   "id": "04587268",
   "metadata": {
    "scrolled": false
   },
   "outputs": [],
   "source": [
    "reverse.show_result()"
   ]
  }
 ],
 "metadata": {
  "kernelspec": {
   "display_name": "Python [conda env:SCA] *",
   "language": "python",
   "name": "conda-env-SCA-py"
  },
  "language_info": {
   "codemirror_mode": {
    "name": "ipython",
    "version": 3
   },
   "file_extension": ".py",
   "mimetype": "text/x-python",
   "name": "python",
   "nbconvert_exporter": "python",
   "pygments_lexer": "ipython3",
   "version": "3.9.18"
  }
 },
 "nbformat": 4,
 "nbformat_minor": 5
}
