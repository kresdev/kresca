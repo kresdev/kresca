{
 "cells": [
  {
   "cell_type": "code",
   "execution_count": null,
   "id": "795081de",
   "metadata": {},
   "outputs": [],
   "source": [
    "import sys\n",
    "sys.path.append('../../')\n",
    "\n",
    "import estraces\n",
    "import scared\n",
    "import numpy as np\n",
    "from kresca.plot import CurvePlot\n",
    "from kresca.reverse import LeakageAssessment\n",
    "from kresca.attack import NonProfileAttack"
   ]
  },
  {
   "cell_type": "markdown",
   "id": "e877000f",
   "metadata": {},
   "source": [
    "## Import Traces"
   ]
  },
  {
   "cell_type": "code",
   "execution_count": null,
   "id": "84e5ed4a",
   "metadata": {},
   "outputs": [],
   "source": [
    "ths = estraces.read_ths_from_ets_file('../../Traces/ETS/Telkom_30k_sync2.ets')"
   ]
  },
  {
   "cell_type": "code",
   "execution_count": null,
   "id": "3a50f359",
   "metadata": {},
   "outputs": [],
   "source": [
    "print(ths)"
   ]
  },
  {
   "cell_type": "markdown",
   "id": "307fd400",
   "metadata": {},
   "source": [
    "## Plot Traces"
   ]
  },
  {
   "cell_type": "code",
   "execution_count": null,
   "id": "71ca1b64",
   "metadata": {},
   "outputs": [],
   "source": [
    "#put inline=True if you want to display on notebook\n",
    "CurvePlot(ths.samples[:5], inline=True) "
   ]
  },
  {
   "cell_type": "markdown",
   "id": "f463d23e-f148-4017-bbb3-4c0a6f375c7c",
   "metadata": {},
   "source": [
    "## Milenage Attack"
   ]
  },
  {
   "cell_type": "markdown",
   "id": "c31eff82-632e-4369-89ec-4477c1a96ac5",
   "metadata": {},
   "source": [
    "### Milenage First SubBytes"
   ]
  },
  {
   "cell_type": "code",
   "execution_count": null,
   "id": "7a860fab-b058-4096-bb46-86f211427673",
   "metadata": {},
   "outputs": [],
   "source": [
    "@scared.attack_selection_function\n",
    "def milenage_first_subbytes(plaintext, guesses):\n",
    "    res = np.empty((plaintext.shape[0], len(guesses), plaintext.shape[1]), dtype='uint8')\n",
    "    for i, guess in enumerate(guesses):\n",
    "        res[:, i, :] = scared.aes.SBOX[np.bitwise_xor(plaintext, guess)]\n",
    "    return res"
   ]
  },
  {
   "cell_type": "code",
   "execution_count": null,
   "id": "734f4fad-df48-48a9-a231-8ae69a3ba86a",
   "metadata": {},
   "outputs": [],
   "source": [
    "Milenage_selection_functions = {\n",
    "    'Milenage First Sub Bytes': milenage_first_subbytes,\n",
    "}"
   ]
  },
  {
   "cell_type": "code",
   "execution_count": null,
   "id": "dd3f7682-a1cc-40f9-852a-a5a9eb995569",
   "metadata": {},
   "outputs": [],
   "source": [
    "attack = NonProfileAttack(\n",
    "    ths=ths,\n",
    "    selection_functions=Milenage_selection_functions\n",
    ")"
   ]
  },
  {
   "cell_type": "code",
   "execution_count": null,
   "id": "4a2770a7-d619-4b12-9268-ac9c3c0c3abb",
   "metadata": {},
   "outputs": [],
   "source": [
    "attack.run()"
   ]
  },
  {
   "cell_type": "code",
   "execution_count": null,
   "id": "053d51ed-c7b2-4d93-9536-723c3874d83d",
   "metadata": {},
   "outputs": [],
   "source": [
    "attack.report()"
   ]
  },
  {
   "cell_type": "code",
   "execution_count": null,
   "id": "b4ea30af-f05a-47c6-b075-0b3063846556",
   "metadata": {},
   "outputs": [],
   "source": [
    "attack.show_result()"
   ]
  },
  {
   "cell_type": "markdown",
   "id": "5325c5de-1e3e-4424-912a-772179605d01",
   "metadata": {},
   "source": [
    "### Milenage Second Subbytes"
   ]
  },
  {
   "cell_type": "code",
   "execution_count": null,
   "id": "f766b425-cd63-4b3c-8cc9-44f3b00c769b",
   "metadata": {},
   "outputs": [],
   "source": [
    "key_xor_opc = np.array([0x71, 0x6d, 0xe2, 0xfb, 0xa0, 0x8a, 0xdf, 0xd, 0xf2, 0x26, 0x12, 0xe1, 0xe5, 0xc4, 0x3f, 0x3], dtype='uint8')\n",
    "\n",
    "@scared.attack_selection_function\n",
    "def milenage_second_subbytes(plaintext, guesses):\n",
    "    res = np.empty((plaintext.shape[0], len(guesses), plaintext.shape[1]), dtype='uint8')\n",
    "    output_aes_round_1 = scared.aes.encrypt(plaintext, key_xor_opc, at_round=1, after_step=scared.aes.Steps.MIX_COLUMNS)\n",
    "    for i, guess in enumerate(guesses):\n",
    "        res[:, i, :] = scared.aes.SBOX[np.bitwise_xor(output_aes_round_1, guess)]\n",
    "    return res"
   ]
  },
  {
   "cell_type": "code",
   "execution_count": null,
   "id": "fa970f54-66eb-4ff5-bde9-ea7139bafbdc",
   "metadata": {},
   "outputs": [],
   "source": [
    "Milenage_selection_functions = {\n",
    "    'Milenage Second Sub Bytes': milenage_second_subbytes,\n",
    "}"
   ]
  },
  {
   "cell_type": "code",
   "execution_count": null,
   "id": "6de893c3-c3dc-4d6d-87aa-cf7b2bf18f11",
   "metadata": {},
   "outputs": [],
   "source": [
    "attack = NonProfileAttack(\n",
    "    ths=ths,\n",
    "    selection_functions=Milenage_selection_functions\n",
    ")"
   ]
  },
  {
   "cell_type": "code",
   "execution_count": null,
   "id": "1d5b689f-d246-4f07-b8d8-a1c88218613b",
   "metadata": {},
   "outputs": [],
   "source": [
    "attack.run()"
   ]
  },
  {
   "cell_type": "code",
   "execution_count": null,
   "id": "0ff5b7e0-475a-4b28-b763-488fd965d34e",
   "metadata": {},
   "outputs": [],
   "source": [
    "attack.report()"
   ]
  },
  {
   "cell_type": "code",
   "execution_count": null,
   "id": "0090d073-d727-468d-9b29-f59429ae3dd8",
   "metadata": {},
   "outputs": [],
   "source": [
    "attack.show_result()"
   ]
  },
  {
   "cell_type": "code",
   "execution_count": null,
   "id": "dc58a945-9096-452e-a7c3-678ee4380e02",
   "metadata": {},
   "outputs": [],
   "source": [
    "aes_key_2 = np.array([0xa, 0x1, 0x7, 0xc4, 0x18, 0x43, 0xab, 0x6e, 0x6, 0x7b, 0x4d, 0xd, 0xfb, 0x3, 0xc6, 0x18], dtype='uint8')"
   ]
  },
  {
   "cell_type": "markdown",
   "id": "4bc981ee-f3c8-4c5a-ac02-22110987bb5c",
   "metadata": {},
   "source": [
    "## Recover Master Key"
   ]
  },
  {
   "cell_type": "code",
   "execution_count": null,
   "id": "75f13d22-4671-475f-9502-0ef48e4b2268",
   "metadata": {},
   "outputs": [],
   "source": [
    "def array_to_hexstring(data):\n",
    "    return \"\".join([f\"{i:2X}\" for i in data])"
   ]
  },
  {
   "cell_type": "code",
   "execution_count": null,
   "id": "f311c311-5856-4def-b38d-c5b2fc0232b8",
   "metadata": {},
   "outputs": [],
   "source": [
    "master_key = scared.aes.inv_key_schedule(aes_key_2, round_in=1)[0][0]\n",
    "opc = np.bitwise_xor(master_key, key_xor_opc)\n",
    "\n",
    "print(f\"Key : {array_to_hexstring(master_key)}\")\n",
    "print(f\"Opc : {array_to_hexstring(opc)}\")"
   ]
  }
 ],
 "metadata": {
  "kernelspec": {
   "display_name": "Python 3 (ipykernel)",
   "language": "python",
   "name": "python3"
  },
  "language_info": {
   "codemirror_mode": {
    "name": "ipython",
    "version": 3
   },
   "file_extension": ".py",
   "mimetype": "text/x-python",
   "name": "python",
   "nbconvert_exporter": "python",
   "pygments_lexer": "ipython3",
   "version": "3.12.1"
  }
 },
 "nbformat": 4,
 "nbformat_minor": 5
}
