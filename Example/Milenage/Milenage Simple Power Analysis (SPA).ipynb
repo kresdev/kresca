{
 "cells": [
  {
   "cell_type": "code",
   "execution_count": null,
   "id": "beda6e29",
   "metadata": {},
   "outputs": [],
   "source": [
    "import sys\n",
    "sys.path.append('../../')\n",
    "\n",
    "import matplotlib.pyplot as plt\n",
    "import estraces\n",
    "import scared\n",
    "from kresca.plot import CurvePlot\n",
    "from kresca.reverse import LeakageAssessment"
   ]
  },
  {
   "cell_type": "markdown",
   "id": "bae8dca1",
   "metadata": {},
   "source": [
    "## Import Traces"
   ]
  },
  {
   "cell_type": "code",
   "execution_count": null,
   "id": "7a07dce9",
   "metadata": {},
   "outputs": [],
   "source": [
    "ths = estraces.read_ths_from_ets_file('../../Traces/ETS/Telkom35k.ets')"
   ]
  },
  {
   "cell_type": "code",
   "execution_count": null,
   "id": "81447ea1",
   "metadata": {},
   "outputs": [],
   "source": [
    "print(ths)"
   ]
  },
  {
   "cell_type": "markdown",
   "id": "c1f46707",
   "metadata": {},
   "source": [
    "## Plot Traces"
   ]
  },
  {
   "cell_type": "markdown",
   "id": "3b240c24",
   "metadata": {},
   "source": [
    "### kresca"
   ]
  },
  {
   "cell_type": "code",
   "execution_count": null,
   "id": "d109be94",
   "metadata": {},
   "outputs": [],
   "source": [
    "#put inline=True if you want to display on notebook\n",
    "CurvePlot(ths.samples[:5, 357:], inline=True) "
   ]
  },
  {
   "cell_type": "markdown",
   "id": "b3190fdd",
   "metadata": {},
   "source": [
    "### Milenage Full"
   ]
  },
  {
   "cell_type": "code",
   "execution_count": null,
   "id": "8573fe2d",
   "metadata": {},
   "outputs": [],
   "source": [
    "sample = ths.samples[1, 357:]\n",
    "\n",
    "plt.figure(figsize=(16, 6))\n",
    "plt.plot(sample)\n",
    "plt.xlabel('Points')\n",
    "plt.ylabel('Power/Magnitude')\n",
    "plt.title('Milenage Full')\n",
    "plt.show()"
   ]
  },
  {
   "cell_type": "code",
   "execution_count": null,
   "id": "30f0e846-cf39-4261-86e3-e63cc2406e7a",
   "metadata": {},
   "outputs": [],
   "source": [
    "sample = ths.samples[1, 357:]\n",
    "sample_filtered = scared.signal_processing.butterworth(sample, frequency=25e6, cutoff=1e6)\n",
    "\n",
    "plt.figure(figsize=(16, 6))\n",
    "plt.plot(sample_filtered)\n",
    "plt.xlabel('Points')\n",
    "plt.ylabel('Power/Magnitude')\n",
    "plt.title('Milenage Full Filtered')\n",
    "\n",
    "plt.axvspan(42000, 62500, color='green', alpha=0.3, label='OP to OPC')\n",
    "plt.axvspan(76000, 95000, color='red', alpha=0.3, label='Rand OPC')\n",
    "plt.axvspan(95000, 114000, color='blue', alpha=0.3, label='f1 f1*')\n",
    "plt.axvspan(118000, 137000, color='yellow', alpha=0.3, label='f5 f2')\n",
    "plt.axvspan(137000, 156500, color='purple', alpha=0.3, label='f3')\n",
    "plt.axvspan(159000, 177000, color='orange', alpha=0.3, label='f4')\n",
    "plt.axvspan(181000, 199000, color='brown', alpha=0.3, label='f5*')\n",
    "plt.legend(loc='upper right')\n",
    "plt.show()"
   ]
  },
  {
   "cell_type": "markdown",
   "id": "d44760b9-50f5-46eb-ba20-2f6257458088",
   "metadata": {},
   "source": [
    "## AES Full"
   ]
  },
  {
   "cell_type": "code",
   "execution_count": null,
   "id": "08f231be-1941-4064-92d3-9b3089bc32f5",
   "metadata": {},
   "outputs": [],
   "source": [
    "sample = ths.samples[1, 357:]\n",
    "sample_filtered = scared.signal_processing.butterworth(sample, frequency=25e6, cutoff=1e6)\n",
    "\n",
    "plt.figure(figsize=(16, 6))\n",
    "plt.plot(sample_filtered)\n",
    "plt.xlim(76000, 95000)\n",
    "plt.ylim(-40, -15)\n",
    "plt.xlabel('Points')\n",
    "plt.ylabel('Power/Magnitude')\n",
    "plt.title('10 Round of AES')\n",
    "plt.show()"
   ]
  },
  {
   "cell_type": "markdown",
   "id": "8ec24031",
   "metadata": {},
   "source": [
    "### 1 Round of AES"
   ]
  },
  {
   "cell_type": "code",
   "execution_count": null,
   "id": "099624f2",
   "metadata": {},
   "outputs": [],
   "source": [
    "plt.figure(figsize=(16, 6))\n",
    "plt.plot(sample_filtered)\n",
    "plt.xlabel('Points')\n",
    "plt.ylabel('Power/Magnitude')\n",
    "plt.xlim(79000, 81500)\n",
    "plt.ylim(-35, -15)\n",
    "plt.title('1 Round of AES')\n",
    "\n",
    "plt.axvspan(79310, 79560, color='red', alpha=0.3, label='Add Round Key')\n",
    "plt.axvspan(79560, 80100, color='green', alpha=0.3, label='Sub Bytes')\n",
    "plt.axvspan(80100, 80190, color='yellow', alpha=0.3, label='Shift Rows')\n",
    "plt.axvspan(80190, 81010, color='purple', alpha=0.3, label='Mix Column')\n",
    "plt.legend(loc='upper right')\n",
    "plt.show()"
   ]
  }
 ],
 "metadata": {
  "kernelspec": {
   "display_name": "Python 3 (ipykernel)",
   "language": "python",
   "name": "python3"
  },
  "language_info": {
   "codemirror_mode": {
    "name": "ipython",
    "version": 3
   },
   "file_extension": ".py",
   "mimetype": "text/x-python",
   "name": "python",
   "nbconvert_exporter": "python",
   "pygments_lexer": "ipython3",
   "version": "3.12.1"
  }
 },
 "nbformat": 4,
 "nbformat_minor": 5
}
