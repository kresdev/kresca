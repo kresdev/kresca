{
 "cells": [
  {
   "cell_type": "code",
   "execution_count": null,
   "id": "bff2a4a0",
   "metadata": {},
   "outputs": [],
   "source": [
    "from binascii import hexlify\n",
    "import sys\n",
    "\n",
    "import numpy as np\n",
    "import estraces\n",
    "from rainbow.generics import rainbow_arm, rainbow_cortexm\n",
    "from rainbow import TraceConfig, HammingWeight, Print\n",
    "from tqdm.notebook import tqdm\n",
    "\n",
    "sys.path.append('../../../')\n",
    "\n",
    "from kresca.plot import CurvePlot"
   ]
  },
  {
   "cell_type": "markdown",
   "id": "1b7c7abf",
   "metadata": {},
   "source": [
    "## Create Rainbow Object"
   ]
  },
  {
   "cell_type": "code",
   "execution_count": null,
   "id": "fb92e155",
   "metadata": {},
   "outputs": [],
   "source": [
    "e = rainbow_cortexm(trace_config=TraceConfig(register=HammingWeight()))\n",
    "e.load(\"aes.elf\", typ=\".elf\")\n",
    "e.setup()"
   ]
  },
  {
   "cell_type": "code",
   "execution_count": null,
   "id": "aa10a9ca",
   "metadata": {},
   "outputs": [],
   "source": [
    "def aes_encrypt(key, plaintext):\n",
    "    e.reset()\n",
    "    \n",
    "    key_addr = 0xDEAD0000\n",
    "    e[key_addr] = key.tobytes()\n",
    "\n",
    "    # AES_128_keyschedule(key)\n",
    "    e[\"r0\"] = key_addr\n",
    "    e.start(e.functions[\"AES128_ECB_indp_setkey\"] | 1, 0)\n",
    "\n",
    "    buf_in = 0xDEAD2000\n",
    "    buf_out = 0xDEAD3000\n",
    "    e[buf_in] = plaintext.tobytes()\n",
    "    e[buf_out] = b\"\\x00\" * 16  # Need to do this so this buffer is mapped into unicorn\n",
    "\n",
    "    # AES_128_encrypt(rk, buf_in, buf_out)\n",
    "    e[\"r0\"] = buf_in\n",
    "    e[\"r1\"] = buf_out\n",
    "    # e.trace_reset()\n",
    "    e.start(e.functions[\"AES128_ECB_indp_crypto\"] | 1, 0)\n",
    "\n",
    "    # Hamming weight + noise to pretend we're on a real target\n",
    "    trace = np.array([event[\"register\"] for event in e.trace]) + np.random.normal(\n",
    "        0, 1.0, (len(e.trace))\n",
    "    )\n",
    "    return trace, np.frombuffer(e[buf_out:buf_out+16], dtype='uint8')"
   ]
  },
  {
   "cell_type": "code",
   "execution_count": null,
   "id": "7415a227",
   "metadata": {},
   "outputs": [],
   "source": [
    "key = np.array([0x00, 0x11, 0x22, 0x33, 0x44, 0x55, 0x66, 0x77, 0x88, 0x99, 0xaa, 0xbb, 0xcc, 0xdd, 0xee, 0xff], dtype='uint8')\n",
    "plaintext = np.array([0x48, 0x45, 0x4c, 0x4f, 0x42, 0x55, 0x44, 0x59, 0x53, 0x41, 0x59, 0x41, 0x4b, 0x52, 0x45, 0x53], dtype='uint8')"
   ]
  },
  {
   "cell_type": "code",
   "execution_count": null,
   "id": "0a6153f1",
   "metadata": {},
   "outputs": [],
   "source": [
    "traces = []\n",
    "for i in range(5):\n",
    "    plaintext = np.random.randint(0, 256, (16,), np.uint8)\n",
    "    trace, ciphertext = aes_encrypt(key, plaintext)\n",
    "    traces.append(trace)"
   ]
  },
  {
   "cell_type": "code",
   "execution_count": null,
   "id": "05ace752",
   "metadata": {},
   "outputs": [],
   "source": [
    "CurvePlot(np.array(traces), inline=True)"
   ]
  },
  {
   "cell_type": "markdown",
   "id": "d93aa1d5",
   "metadata": {},
   "source": [
    "## Make Traces"
   ]
  },
  {
   "cell_type": "code",
   "execution_count": null,
   "id": "783a7a57",
   "metadata": {},
   "outputs": [],
   "source": [
    "outfile = estraces.ETSWriter('../../../Traces/ETS/TinyAES_1k.ets', overwrite=True)"
   ]
  },
  {
   "cell_type": "code",
   "execution_count": null,
   "id": "6be50e43",
   "metadata": {},
   "outputs": [],
   "source": [
    "total = 1000\n",
    "\n",
    "for i in tqdm(range(total)):\n",
    "    plaintext = np.random.randint(0, 256, (16,), np.uint8)\n",
    "    trace, ciphertext = aes_encrypt(key, plaintext)\n",
    "    outfile.write_samples(trace, index=i)\n",
    "    outfile.write_meta('plaintext', plaintext, index=i)\n",
    "    outfile.write_meta('key', key, index=i)\n",
    "    outfile.write_meta('ciphertext', ciphertext, index=i)\n",
    "    \n",
    "outfile.close()"
   ]
  }
 ],
 "metadata": {
  "kernelspec": {
   "display_name": "Python 3 (ipykernel)",
   "language": "python",
   "name": "python3"
  },
  "language_info": {
   "codemirror_mode": {
    "name": "ipython",
    "version": 3
   },
   "file_extension": ".py",
   "mimetype": "text/x-python",
   "name": "python",
   "nbconvert_exporter": "python",
   "pygments_lexer": "ipython3",
   "version": "3.12.1"
  }
 },
 "nbformat": 4,
 "nbformat_minor": 5
}
