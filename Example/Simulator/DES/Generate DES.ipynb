{
 "cells": [
  {
   "cell_type": "code",
   "execution_count": 1,
   "id": "bff2a4a0",
   "metadata": {},
   "outputs": [],
   "source": [
    "from binascii import hexlify\n",
    "import sys\n",
    "\n",
    "import numpy as np\n",
    "import estraces\n",
    "from rainbow.generics import rainbow_arm\n",
    "from rainbow import TraceConfig, HammingWeight, Print\n",
    "from tqdm.notebook import tqdm\n",
    "\n",
    "sys.path.append('../../../')\n",
    "\n",
    "from kresca.plot import CurvePlot"
   ]
  },
  {
   "cell_type": "markdown",
   "id": "1b7c7abf",
   "metadata": {},
   "source": [
    "## Create Rainbow Object"
   ]
  },
  {
   "cell_type": "code",
   "execution_count": 2,
   "id": "fb92e155",
   "metadata": {},
   "outputs": [],
   "source": [
    "# e = rainbow_arm(print_config=Print.Code | Print.Functions, trace_config=TraceConfig(register=HammingWeight()))\n",
    "e = rainbow_arm(trace_config=TraceConfig(register=HammingWeight()))\n",
    "e.load(\"des.elf\", typ=\".elf\")\n",
    "e.setup()"
   ]
  },
  {
   "cell_type": "code",
   "execution_count": 3,
   "id": "aa10a9ca",
   "metadata": {},
   "outputs": [],
   "source": [
    "def des_encrypt(key, plaintext):\n",
    "    e.reset()\n",
    "    \n",
    "    key_addr = 0xDEAD0000\n",
    "    buf_in = 0xDEAD2000\n",
    "    buf_out = 0xDEAD4000\n",
    "    \n",
    "    e[key_addr] = key.tobytes()\n",
    "    e[buf_in] = plaintext.tobytes()\n",
    "    e[buf_out] = b\"\\x00\" * 8  # Need to do this so this buffer is mapped into unicorn\n",
    "    \n",
    "    e[\"r0\"] = buf_in\n",
    "    e[\"r1\"] = key_addr    \n",
    "    e[\"r2\"] = buf_out\n",
    "    e.start(e.functions[\"des_encrypt\"] | 1, 0)\n",
    "\n",
    "    # Hamming weight + noise to pretend we're on a real target\n",
    "    trace = np.array([event[\"register\"] for event in e.trace]) + np.random.normal(\n",
    "        0, 1.0, (len(e.trace))\n",
    "    )\n",
    "    return trace, np.frombuffer(e[buf_out:buf_out+8], dtype='uint8')"
   ]
  },
  {
   "cell_type": "code",
   "execution_count": 4,
   "id": "7415a227",
   "metadata": {},
   "outputs": [],
   "source": [
    "plaintext = np.array([0x48, 0x45, 0x4c, 0x4f, 0x42, 0x55, 0x44, 0x59], dtype='uint8')\n",
    "key = np.array([0x11, 0x22, 0x33, 0x44, 0x55, 0x66, 0x77, 0x88], dtype='uint8')"
   ]
  },
  {
   "cell_type": "code",
   "execution_count": 5,
   "id": "9c52da08",
   "metadata": {},
   "outputs": [],
   "source": [
    "trace, ciphertext = des_encrypt(key, plaintext)"
   ]
  },
  {
   "cell_type": "code",
   "execution_count": 6,
   "id": "494f93d1",
   "metadata": {},
   "outputs": [
    {
     "data": {
      "text/plain": [
       "'6b e3 35 0e b9 10 08 7f'"
      ]
     },
     "execution_count": 6,
     "metadata": {},
     "output_type": "execute_result"
    }
   ],
   "source": [
    "\" \".join(f\"{i:02x}\" for i in ciphertext)"
   ]
  },
  {
   "cell_type": "code",
   "execution_count": 7,
   "id": "0a6153f1",
   "metadata": {},
   "outputs": [],
   "source": [
    "traces = []\n",
    "for i in range(5):\n",
    "    plaintext = np.random.randint(0, 256, (8,), np.uint8)\n",
    "    trace, ciphertext = des_encrypt(key, plaintext)\n",
    "    traces.append(trace)"
   ]
  },
  {
   "cell_type": "code",
   "execution_count": 9,
   "id": "05ace752",
   "metadata": {},
   "outputs": [
    {
     "name": "stderr",
     "output_type": "stream",
     "text": [
      "E:\\Kerja\\Projek\\Cryptography\\Git\\kresca\\Example\\Simulator\\DES\\../../..\\kresca\\plot\\curve_plot.py:20: DeprecationWarning: `magic(...)` is deprecated since IPython 0.13 (warning added in 8.1), use run_line_magic(magic_name, parameter_s).\n",
      "  ipython.magic(\"gui qt5\")\n"
     ]
    },
    {
     "data": {
      "text/plain": [
       "<CurvePlot (PyQt5) at 0x23153c46070>"
      ]
     },
     "execution_count": 9,
     "metadata": {},
     "output_type": "execute_result"
    }
   ],
   "source": [
    "CurvePlot(np.array(traces))"
   ]
  },
  {
   "cell_type": "markdown",
   "id": "d93aa1d5",
   "metadata": {},
   "source": [
    "## Make Traces"
   ]
  },
  {
   "cell_type": "code",
   "execution_count": 13,
   "id": "783a7a57",
   "metadata": {},
   "outputs": [],
   "source": [
    "outfile = estraces.ETSWriter('../../../Traces/DES_1k.ets', overwrite=True)"
   ]
  },
  {
   "cell_type": "code",
   "execution_count": 14,
   "id": "6be50e43",
   "metadata": {},
   "outputs": [
    {
     "name": "stderr",
     "output_type": "stream",
     "text": [
      "C:\\Users\\Tes\\miniconda3\\envs\\SCA\\lib\\site-packages\\ipywidgets\\widgets\\widget.py:528: DeprecationWarning: The `ipykernel.comm.Comm` class has been deprecated. Please use the `comm` module instead.For creating comms, use the function `from comm import create_comm`.\n",
      "  self.comm = Comm(**args)\n"
     ]
    },
    {
     "data": {
      "application/json": {
       "ascii": false,
       "bar_format": null,
       "colour": null,
       "elapsed": 0,
       "initial": 0,
       "n": 0,
       "ncols": null,
       "nrows": 29,
       "postfix": null,
       "prefix": "",
       "rate": null,
       "total": 1000,
       "unit": "it",
       "unit_divisor": 1000,
       "unit_scale": false
      },
      "application/vnd.jupyter.widget-view+json": {
       "model_id": "872e671686ba42dca3e45319c333ac89",
       "version_major": 2,
       "version_minor": 0
      },
      "text/plain": [
       "  0%|          | 0/1000 [00:00<?, ?it/s]"
      ]
     },
     "metadata": {},
     "output_type": "display_data"
    },
    {
     "name": "stderr",
     "output_type": "stream",
     "text": [
      "C:\\Users\\Tes\\miniconda3\\envs\\SCA\\lib\\site-packages\\estraces\\formats\\ets_writer.py:217: DeprecationWarning: This method is deprecated and will be removed in a future version. Use write_samples instead.\n",
      "  warnings.warn('This method is deprecated and will be removed in a future version. Use write_samples instead.', DeprecationWarning)\n"
     ]
    }
   ],
   "source": [
    "total = 1000\n",
    "\n",
    "for i in tqdm(range(total)):\n",
    "    plaintext = np.random.randint(0, 256, (8,), np.uint8)\n",
    "    trace, ciphertext = des_encrypt(key, plaintext)\n",
    "    outfile.write_samples(trace, index=i)\n",
    "    outfile.write_meta('plaintext', plaintext, index=i)\n",
    "    outfile.write_meta('key', key, index=i)\n",
    "    outfile.write_meta('ciphertext', ciphertext, index=i)\n",
    "    \n",
    "outfile.close()"
   ]
  },
  {
   "cell_type": "code",
   "execution_count": null,
   "id": "d9c0125d",
   "metadata": {},
   "outputs": [],
   "source": []
  }
 ],
 "metadata": {
  "kernelspec": {
   "display_name": "Python 3 (ipykernel)",
   "language": "python",
   "name": "python3"
  },
  "language_info": {
   "codemirror_mode": {
    "name": "ipython",
    "version": 3
   },
   "file_extension": ".py",
   "mimetype": "text/x-python",
   "name": "python",
   "nbconvert_exporter": "python",
   "pygments_lexer": "ipython3",
   "version": "3.9.18"
  }
 },
 "nbformat": 4,
 "nbformat_minor": 5
}
