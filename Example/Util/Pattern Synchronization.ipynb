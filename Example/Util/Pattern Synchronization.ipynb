{
 "cells": [
  {
   "cell_type": "code",
   "execution_count": null,
   "id": "3a81d2fc",
   "metadata": {},
   "outputs": [],
   "source": [
    "import sys\n",
    "sys.path.append('../../')\n",
    "\n",
    "import estraces\n",
    "import scared\n",
    "import matplotlib.pyplot as plt\n",
    "from kresca.plot import CurvePlot\n",
    "from kresca.synchronization import PatternSynchronization"
   ]
  },
  {
   "cell_type": "markdown",
   "id": "08a76b9a",
   "metadata": {},
   "source": [
    "## Import Traces"
   ]
  },
  {
   "cell_type": "code",
   "execution_count": null,
   "id": "e5980e24",
   "metadata": {},
   "outputs": [],
   "source": [
    "ths = estraces.read_ths_from_ets_file('../../Traces/AES_CW_60k_unsync.ets')"
   ]
  },
  {
   "cell_type": "code",
   "execution_count": null,
   "id": "e5e4c1b7",
   "metadata": {},
   "outputs": [],
   "source": [
    "print(ths)"
   ]
  },
  {
   "cell_type": "markdown",
   "id": "7b9a6ba9",
   "metadata": {},
   "source": [
    "## Curve Plot"
   ]
  },
  {
   "cell_type": "code",
   "execution_count": null,
   "id": "b860a38a",
   "metadata": {},
   "outputs": [],
   "source": [
    "#put inline=True if you want to display on notebook\n",
    "CurvePlot(ths.samples[:5], inline=True) "
   ]
  },
  {
   "cell_type": "markdown",
   "id": "e3afa622",
   "metadata": {},
   "source": [
    "## Make a Pattern"
   ]
  },
  {
   "cell_type": "code",
   "execution_count": null,
   "id": "5902d7df",
   "metadata": {},
   "outputs": [],
   "source": [
    "start_pattern = 350\n",
    "end_pattern = 600\n",
    "reference_trace = 0\n",
    "pattern = ths[reference_trace].samples[start_pattern:end_pattern]"
   ]
  },
  {
   "cell_type": "code",
   "execution_count": null,
   "id": "823bfa2e",
   "metadata": {
    "scrolled": false
   },
   "outputs": [],
   "source": [
    "plt.figure(figsize=(16, 6))\n",
    "plt.plot(ths[reference_trace].samples, label='reference trace')\n",
    "plt.plot(range(start_pattern, end_pattern), pattern, color='orange', label='pattern')\n",
    "plt.legend(loc=2)\n",
    "plt.show()"
   ]
  },
  {
   "cell_type": "markdown",
   "id": "e6da2227",
   "metadata": {},
   "source": [
    "## Pattern Synchronization"
   ]
  },
  {
   "cell_type": "code",
   "execution_count": null,
   "id": "4d9f06ca",
   "metadata": {},
   "outputs": [],
   "source": [
    "example = PatternSynchronization(\n",
    "    ths=ths,\n",
    "    patterns=[pattern],\n",
    "    score_limit=0.5\n",
    ")"
   ]
  },
  {
   "cell_type": "code",
   "execution_count": null,
   "id": "59173237",
   "metadata": {
    "scrolled": false
   },
   "outputs": [],
   "source": [
    "example.check()"
   ]
  },
  {
   "cell_type": "code",
   "execution_count": null,
   "id": "989dec2f",
   "metadata": {},
   "outputs": [],
   "source": [
    "example.run(\"example.ets\")"
   ]
  }
 ],
 "metadata": {
  "kernelspec": {
   "display_name": "Python [conda env:SCA] *",
   "language": "python",
   "name": "conda-env-SCA-py"
  },
  "language_info": {
   "codemirror_mode": {
    "name": "ipython",
    "version": 3
   },
   "file_extension": ".py",
   "mimetype": "text/x-python",
   "name": "python",
   "nbconvert_exporter": "python",
   "pygments_lexer": "ipython3",
   "version": "3.9.18"
  }
 },
 "nbformat": 4,
 "nbformat_minor": 5
}
