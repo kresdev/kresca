{
 "cells": [
  {
   "cell_type": "code",
   "execution_count": null,
   "id": "3a81d2fc",
   "metadata": {},
   "outputs": [],
   "source": [
    "import sys\n",
    "sys.path.append('../../')\n",
    "\n",
    "import estraces\n",
    "import scared\n",
    "import matplotlib.pyplot as plt\n",
    "from kresca.plot import CurvePlot\n",
    "from kresca.synchronization import PatternSynchronization"
   ]
  },
  {
   "cell_type": "markdown",
   "id": "08a76b9a",
   "metadata": {},
   "source": [
    "## Import Traces"
   ]
  },
  {
   "cell_type": "code",
   "execution_count": null,
   "id": "e5980e24",
   "metadata": {},
   "outputs": [],
   "source": [
    "ths = estraces.read_ths_from_ets_file('../../Traces/ETS/Telkom35k.ets')"
   ]
  },
  {
   "cell_type": "code",
   "execution_count": null,
   "id": "e5e4c1b7",
   "metadata": {},
   "outputs": [],
   "source": [
    "print(ths)"
   ]
  },
  {
   "cell_type": "markdown",
   "id": "7b9a6ba9",
   "metadata": {},
   "source": [
    "## Curve Plot"
   ]
  },
  {
   "cell_type": "code",
   "execution_count": null,
   "id": "b860a38a",
   "metadata": {},
   "outputs": [],
   "source": [
    "#put inline=True if you want to display on notebook\n",
    "CurvePlot(ths.samples[:5, 357:], inline=True) "
   ]
  },
  {
   "cell_type": "markdown",
   "id": "e3afa622",
   "metadata": {},
   "source": [
    "## Make a Pattern"
   ]
  },
  {
   "cell_type": "markdown",
   "id": "7cd4e156-eb99-49c7-bf3e-a2c975023479",
   "metadata": {},
   "source": [
    "### Apply Filter to Traces"
   ]
  },
  {
   "cell_type": "code",
   "execution_count": null,
   "id": "ed54737d-1e02-4dea-8bea-4be1d3b7762d",
   "metadata": {},
   "outputs": [],
   "source": [
    "#filter \n",
    "samples = ths.samples[2:4, 357:]\n",
    "fs = 25e6\n",
    "cutoff = 1e6\n",
    "window_mean = 50\n",
    "filtered_samples = scared.signal_processing.butterworth(samples, fs, cutoff)\n",
    "prep_samples = scared.signal_processing.moving_mean(filtered_samples, window_size=window_mean)"
   ]
  },
  {
   "cell_type": "code",
   "execution_count": null,
   "id": "b47cb83c-e25d-4622-9f1a-891a8f26c416",
   "metadata": {},
   "outputs": [],
   "source": [
    "CurvePlot(prep_samples, inline=True) "
   ]
  },
  {
   "cell_type": "markdown",
   "id": "1c3c10a3-e962-42ff-9d01-f26910530f85",
   "metadata": {},
   "source": [
    "### Create Pattern from Samples"
   ]
  },
  {
   "cell_type": "code",
   "execution_count": null,
   "id": "5902d7df",
   "metadata": {},
   "outputs": [],
   "source": [
    "start_pattern = 43000\n",
    "end_pattern = 48000\n",
    "reference_trace = 1\n",
    "length = end_pattern - start_pattern\n",
    "\n",
    "# pattern = ths[reference_trace].samples[start_pattern:end_pattern]\n",
    "\n",
    "# use filtered traces\n",
    "pattern = prep_samples[reference_trace, start_pattern:end_pattern]"
   ]
  },
  {
   "cell_type": "code",
   "execution_count": null,
   "id": "823bfa2e",
   "metadata": {},
   "outputs": [],
   "source": [
    "plt.figure(figsize=(16, 6))\n",
    "# plt.plot(ths[reference_trace].samples, label='reference trace')\n",
    "plt.plot(prep_samples[reference_trace], label='reference trace')\n",
    "plt.plot(range(start_pattern, end_pattern), pattern, color='orange', label='pattern')\n",
    "plt.xlim(start_pattern-length, end_pattern+length)\n",
    "plt.legend(loc=2)\n",
    "plt.show()"
   ]
  },
  {
   "cell_type": "markdown",
   "id": "e6da2227",
   "metadata": {},
   "source": [
    "## Pattern Synchronization"
   ]
  },
  {
   "cell_type": "code",
   "execution_count": null,
   "id": "8fb9214b-b02d-4460-a2eb-376e6b0e50c0",
   "metadata": {},
   "outputs": [],
   "source": [
    "def low_pass_filter(data):\n",
    "    return scared.signal_processing.butterworth(data, frequency=fs, cutoff=cutoff)\n",
    "\n",
    "def moving_mean(data):\n",
    "    return scared.signal_processing.moving_mean(data, window_size=window_mean)"
   ]
  },
  {
   "cell_type": "code",
   "execution_count": null,
   "id": "123d3fe4-4649-4ce3-9ee8-bfb8906e7349",
   "metadata": {},
   "outputs": [],
   "source": [
    "prep = [low_pass_filter, moving_mean]"
   ]
  },
  {
   "cell_type": "code",
   "execution_count": null,
   "id": "4d9f06ca",
   "metadata": {},
   "outputs": [],
   "source": [
    "example = PatternSynchronization(\n",
    "    ths=ths,\n",
    "    patterns=[pattern],\n",
    "    patterns_len=[(0, 6000)],\n",
    "    score_limit=50,\n",
    "    preprocesses=prep,\n",
    "    filtered_output=True,\n",
    "    frames=[(40000, 55000)]\n",
    ")"
   ]
  },
  {
   "cell_type": "code",
   "execution_count": null,
   "id": "59173237",
   "metadata": {},
   "outputs": [],
   "source": [
    "example.check(5, debug=True)"
   ]
  },
  {
   "cell_type": "code",
   "execution_count": null,
   "id": "989dec2f",
   "metadata": {},
   "outputs": [],
   "source": [
    "example.run(\"../../Traces/ETS/Telkom_30k_sync1.ets\")"
   ]
  }
 ],
 "metadata": {
  "kernelspec": {
   "display_name": "Python 3 (ipykernel)",
   "language": "python",
   "name": "python3"
  },
  "language_info": {
   "codemirror_mode": {
    "name": "ipython",
    "version": 3
   },
   "file_extension": ".py",
   "mimetype": "text/x-python",
   "name": "python",
   "nbconvert_exporter": "python",
   "pygments_lexer": "ipython3",
   "version": "3.12.1"
  }
 },
 "nbformat": 4,
 "nbformat_minor": 5
}
